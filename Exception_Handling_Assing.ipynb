{
  "nbformat": 4,
  "nbformat_minor": 0,
  "metadata": {
    "colab": {
      "provenance": []
    },
    "kernelspec": {
      "name": "python3",
      "display_name": "Python 3"
    },
    "language_info": {
      "name": "python"
    }
  },
  "cells": [
    {
      "cell_type": "markdown",
      "source": [
        "Q1. What is an Exception in python? Write the difference between Exceptions and Syntax errors."
      ],
      "metadata": {
        "id": "Hh_292x0DOXd"
      }
    },
    {
      "cell_type": "markdown",
      "source": [
        "An exception is an error occurs during the execution of a program, they disrupt the normal flow of the program.Ex. ZeroDivionError,FileNotFoundError and Typeerror.We can handle exceptions using try and except."
      ],
      "metadata": {
        "id": "Ss_1FVgJFIKx"
      }
    },
    {
      "cell_type": "code",
      "source": [
        "#Exception                  #Syntax Error\n",
        "#An error occurs during      An error in the structue or syntax of the code.\n",
        "#the execution of program\n",
        "#while th code is runing      when python compile the code before running it\n",
        "#handle with try and Except   it should be fixed\n",
        "#ex. ZeroDivionError,         Syntax Error, IndentationError,NameError\n",
        "#FileNotFoundError,\n",
        "#TypeError"
      ],
      "metadata": {
        "id": "8IFssnccGlEw"
      },
      "execution_count": 1,
      "outputs": []
    },
    {
      "cell_type": "markdown",
      "source": [
        "Q2. What happens when an exception is not handled? Explain with an example."
      ],
      "metadata": {
        "id": "ew4E5bnuGU3x"
      }
    },
    {
      "cell_type": "markdown",
      "source": [
        "It will not handle which will lead to runtime error and will terminate the program and will display traceback error message which includes the type of execution.\n",
        "EX."
      ],
      "metadata": {
        "id": "XkfwelyAJ2iJ"
      }
    },
    {
      "cell_type": "code",
      "execution_count": 4,
      "metadata": {
        "colab": {
          "base_uri": "https://localhost:8080/",
          "height": 141
        },
        "id": "gmJodw1mDNlA",
        "outputId": "3744111b-26d1-4d44-c16e-6c3e1b630aa3"
      },
      "outputs": [
        {
          "output_type": "error",
          "ename": "ZeroDivisionError",
          "evalue": "division by zero",
          "traceback": [
            "\u001b[0;31m---------------------------------------------------------------------------\u001b[0m",
            "\u001b[0;31mZeroDivisionError\u001b[0m                         Traceback (most recent call last)",
            "\u001b[0;32m<ipython-input-4-e4b48c0139a0>\u001b[0m in \u001b[0;36m<cell line: 1>\u001b[0;34m()\u001b[0m\n\u001b[0;32m----> 1\u001b[0;31m \u001b[0ma\u001b[0m\u001b[0;34m=\u001b[0m \u001b[0;36m10\u001b[0m\u001b[0;34m/\u001b[0m\u001b[0;36m0\u001b[0m\u001b[0;34m\u001b[0m\u001b[0;34m\u001b[0m\u001b[0m\n\u001b[0m",
            "\u001b[0;31mZeroDivisionError\u001b[0m: division by zero"
          ]
        }
      ],
      "source": [
        "a= 10/0"
      ]
    },
    {
      "cell_type": "markdown",
      "source": [
        "Q3. Which Python statements are used to catch and handle exceptions? Explain with an example."
      ],
      "metadata": {
        "id": "AmkBPD3jLFLx"
      }
    },
    {
      "cell_type": "markdown",
      "source": [
        "Try and Except block are used to handle exceptions.with these exception we can handle the running errors in controlled way.Additionally, Else and Finally can be used for more advance handling."
      ],
      "metadata": {
        "id": "NT_2RoGPLvB7"
      }
    },
    {
      "cell_type": "code",
      "source": [
        "try:\n",
        "  num = int(input(\"Enter a number: \"))\n",
        "  result = 10 / num\n",
        "except ValueError:\n",
        "  print(\"Invalid input. Please enter a number.\")\n",
        "except ZeroDivisionError:\n",
        "  print(\"Cannot divide by zero.\")\n",
        "else:\n",
        "  print(\"The result is:\", result)\n",
        "finally:\n",
        "  print(\"This is always executed.\")\n",
        "\n"
      ],
      "metadata": {
        "colab": {
          "base_uri": "https://localhost:8080/"
        },
        "id": "QYTRSqOGK1bW",
        "outputId": "2b61a01b-ecc9-4b8e-bb35-e03a09f8aab4"
      },
      "execution_count": 12,
      "outputs": [
        {
          "output_type": "stream",
          "name": "stdout",
          "text": [
            "Enter a number: 44\n",
            "The result is: 0.22727272727272727\n",
            "This is always executed.\n"
          ]
        }
      ]
    },
    {
      "cell_type": "markdown",
      "source": [
        "Q4. Explain with an example:\n",
        "\n",
        "\n",
        "1.   Try and Else\n",
        "2.   Finally\n",
        "3.   raise\n",
        "\n",
        "\n",
        ""
      ],
      "metadata": {
        "id": "lPZgCSxwP2uL"
      }
    },
    {
      "cell_type": "markdown",
      "source": [
        "These are part of exception handling.below explained with example.\n"
      ],
      "metadata": {
        "id": "qBsa5TlY-rYb"
      }
    },
    {
      "cell_type": "code",
      "source": [
        "#Try and Else\n",
        "try:\n",
        "  f = open(\"ex.txt\", 'w')\n",
        "  f.write(\"This is a test file.\")\n",
        "\n",
        "except FileNotFoundError:\n",
        "  print(\"File not found.\")\n",
        "\n",
        "else:\n",
        "  f.close()\n",
        "  print(\"File written successfully.\")\n"
      ],
      "metadata": {
        "colab": {
          "base_uri": "https://localhost:8080/"
        },
        "id": "aksij0UXO21U",
        "outputId": "2e2de887-dc10-45dd-f0f2-74b9c7293790"
      },
      "execution_count": 1,
      "outputs": [
        {
          "output_type": "stream",
          "name": "stdout",
          "text": [
            "File written successfully.\n"
          ]
        }
      ]
    },
    {
      "cell_type": "code",
      "source": [
        "#Finally\n",
        "try:\n",
        "  f = open(\"ex.txt\", 'r')\n",
        "  print(f.read())\n",
        "\n",
        "except FileNotFoundError:\n",
        "  print(\"File not found.\")\n",
        "\n",
        "finally:\n",
        "  f.close()\n",
        "  print(\"File closed.\")"
      ],
      "metadata": {
        "colab": {
          "base_uri": "https://localhost:8080/"
        },
        "id": "RWLTvSWjAiJx",
        "outputId": "4b8714db-ae0b-4291-df50-fac82e3474d5"
      },
      "execution_count": 3,
      "outputs": [
        {
          "output_type": "stream",
          "name": "stdout",
          "text": [
            "This is a test file.\n",
            "File closed.\n"
          ]
        }
      ]
    },
    {
      "cell_type": "code",
      "source": [
        "#Raise\n",
        "def divide(x,y):\n",
        "  if y == 0:\n",
        "    raise ZeroDivisionError(\"Cannot divide by Zero\")\n",
        "    return x/y\n",
        "try:\n",
        "  result = divide(10,0)\n",
        "  print(\"Result:\",result)\n",
        "except ZeroDivisionError as e:\n",
        "  print(\"Error:\",e)"
      ],
      "metadata": {
        "colab": {
          "base_uri": "https://localhost:8080/"
        },
        "id": "FfgZJG5dDAKF",
        "outputId": "e8c5252e-eec9-40cc-940e-cf9df5169553"
      },
      "execution_count": 8,
      "outputs": [
        {
          "output_type": "stream",
          "name": "stdout",
          "text": [
            "Error: Cannot divide by Zero\n"
          ]
        }
      ]
    },
    {
      "cell_type": "markdown",
      "source": [
        "Q5.What are Custom Exceptions in python? Why do we need Custom Exceptions? Explain with an example."
      ],
      "metadata": {
        "id": "lJQAMmFLFi0O"
      }
    },
    {
      "cell_type": "markdown",
      "source": [
        "Custom exceptions are helpful in many situations. They allow you to define your own error conditions and handle them in a more specific and meaningful way.\n",
        "\n",
        "We need custom exception because it  helps to give an specific error which is more precise, we can read more clear information, we can control each code differentl and it can be used multiple times."
      ],
      "metadata": {
        "id": "JjNZXLQYHtHB"
      }
    },
    {
      "cell_type": "code",
      "source": [
        "#ex.\n",
        "class InvalidAgeError(Exception):\n",
        "  def __init__(self, age, message = \"Age cannot be negative\"):\n",
        "    self.age = age\n",
        "    self.message = message\n",
        "    super().__init__(self.message)\n",
        "\n",
        "  def user_age(age):\n",
        "    if age < 0 :\n",
        "      raise InvalidAgeError(age)\n",
        "    else:\n",
        "      print(\"Age is valid\")\n",
        "\n",
        "  try:\n",
        "      user_age(-2)\n",
        "  except InvalidAgeError as e:\n",
        "      print(e)\n"
      ],
      "metadata": {
        "colab": {
          "base_uri": "https://localhost:8080/"
        },
        "collapsed": true,
        "id": "x7XQYKW6FUhO",
        "outputId": "07f7b216-879b-4816-b9c1-bee2ba4f6fa6"
      },
      "execution_count": 15,
      "outputs": [
        {
          "output_type": "stream",
          "name": "stdout",
          "text": [
            "Age cannot be negative\n"
          ]
        }
      ]
    },
    {
      "cell_type": "markdown",
      "source": [],
      "metadata": {
        "id": "4KuW2FbaKoT1"
      }
    },
    {
      "cell_type": "code",
      "source": [
        "class InsufficientBalanceError(Exception):\n",
        "  def __init__(self, balance, amount, message = \"Insufficient Balance\"):\n",
        "    self.balance = balance\n",
        "    self.amount  = amount\n",
        "    self.message = message\n",
        "    super().__init__(self.message)\n",
        "\n",
        "def withraw(balance, amount):\n",
        "    if amount > balance:\n",
        "      raise InsufficientBalanceError(balance, amount)\n",
        "    else:\n",
        "      balance -= amount\n",
        "      print(\"Withrawal Successful\")\n",
        "    return balance\n",
        "\n",
        "try:\n",
        "    current_balance = 2100\n",
        "    current_balance = withraw(current_balance, 2500)\n",
        "except InsufficientBalanceError as e:\n",
        "    print(e)"
      ],
      "metadata": {
        "colab": {
          "base_uri": "https://localhost:8080/"
        },
        "id": "oYpwU2HeNeHw",
        "outputId": "d8c5f724-2eb5-4332-d875-621917b3e056"
      },
      "execution_count": 22,
      "outputs": [
        {
          "output_type": "stream",
          "name": "stdout",
          "text": [
            "Insufficient Balance\n"
          ]
        }
      ]
    },
    {
      "cell_type": "code",
      "source": [],
      "metadata": {
        "id": "rlfoA2wcRhWS"
      },
      "execution_count": null,
      "outputs": []
    }
  ]
}