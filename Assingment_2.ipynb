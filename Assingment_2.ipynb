{
  "nbformat": 4,
  "nbformat_minor": 0,
  "metadata": {
    "colab": {
      "provenance": []
    },
    "kernelspec": {
      "name": "python3",
      "display_name": "Python 3"
    },
    "language_info": {
      "name": "python"
    }
  },
  "cells": [
    {
      "cell_type": "code",
      "source": [
        "##1 How do you comment code in Python? What are the different types of comments?\n",
        "#Comments help to make a code more readable and understable. We can also use comments to explain codes.\n",
        "# There are two types of comments\n",
        "#Single line Comments ex. #hello, \"hello\"\n",
        "## Multi line Comments ex. ##hello, \"\"\"hello\"\"\""
      ],
      "metadata": {
        "id": "r3AFdlKbGgZh"
      },
      "execution_count": 13,
      "outputs": []
    },
    {
      "cell_type": "code",
      "source": [
        "##2 What are variables in Python? How do you declare and assign values to variables?\n",
        "# Variables acts as a containers for storing data.In python first we assign value and use them to manipulate the data.variable can be stored in any data type such as integers, floats, strings, list, etc.\n",
        "# Python can declace and assign values by using assignment operator \"=\"\n",
        "# Ex.\n",
        "Variable = \"Data Science\"\n",
        "age = 25\n",
        "name = \"Ragini\"\n",
        "assigment = [1,2,3,4,5,6]\n",
        "\n",
        "\n"
      ],
      "metadata": {
        "id": "9CkVOE7wJ0EC"
      },
      "execution_count": 17,
      "outputs": []
    },
    {
      "cell_type": "code",
      "source": [
        "##3 How do you convert one data type to another in Python?\n",
        "# We can convert one data type to another by using type conversion funtion.There are two types of conversion\n",
        "# Implicit Type and Explicit Type\n",
        "#Implicit Type convert one data to another automatically in python\n",
        "#ex.\n",
        "x = 1 #integer\n",
        "y = 2.5 #float\n",
        "output = x + y\n",
        "print(output)\n",
        "type(output)\n"
      ],
      "metadata": {
        "colab": {
          "base_uri": "https://localhost:8080/"
        },
        "id": "AQ38yPl_MQ8B",
        "outputId": "3de8bbce-983e-4d58-b1c6-def8213822f3"
      },
      "execution_count": 3,
      "outputs": [
        {
          "output_type": "stream",
          "name": "stdout",
          "text": [
            "3.5\n"
          ]
        },
        {
          "output_type": "execute_result",
          "data": {
            "text/plain": [
              "float"
            ]
          },
          "metadata": {},
          "execution_count": 3
        }
      ]
    },
    {
      "cell_type": "code",
      "source": [
        "#Explicit Type conversion in used to convert manually with the help of python inbuilt functions.\n",
        "#1. int() # convert Integer\n",
        "#2. float() # convert float\n",
        "#3. str() # convert string\n",
        "#4. list() #convert list\n",
        "#5. tuple() #convert tuple\n",
        "#6. set() #convert set\n",
        "#7. dict() # convert dictionary\n",
        "\n",
        "#ex.\n",
        "x = 1\n",
        "y = float(x)\n",
        "print(y)\n",
        "type(y)\n",
        "\n"
      ],
      "metadata": {
        "colab": {
          "base_uri": "https://localhost:8080/"
        },
        "id": "SbN-w3Yi94Wf",
        "outputId": "1dac55e5-0acd-4110-f222-d4b21af69ed5"
      },
      "execution_count": 7,
      "outputs": [
        {
          "output_type": "stream",
          "name": "stdout",
          "text": [
            "1.0\n"
          ]
        },
        {
          "output_type": "execute_result",
          "data": {
            "text/plain": [
              "float"
            ]
          },
          "metadata": {},
          "execution_count": 7
        }
      ]
    },
    {
      "cell_type": "code",
      "source": [
        "##4 How do you write and execute a Python script from the command line?\n",
        "#We need to create python friendly code or IDE with .py extention. ex. \"hello.py\"\n",
        "#We will save the the file using \"hello.py in \"\n",
        "# open command prompt type CMD and enter.\n",
        "# type in the word python followed by the path to your target script:\n",
        "#python hello.py\n",
        "#This will execute the script and print the output."
      ],
      "metadata": {
        "id": "LOvYPxOm_hmw"
      },
      "execution_count": 1,
      "outputs": []
    },
    {
      "cell_type": "code",
      "source": [
        "##5 Given a list my_list = [1, 2, 3, 4, 5], write the code to slice the list and obtain the sub-list [2, 3].\n",
        "my_list = [1, 2, 3, 4, 5]\n",
        "sub_list = my_list[1:3]\n",
        "print(sub_list)"
      ],
      "metadata": {
        "colab": {
          "base_uri": "https://localhost:8080/"
        },
        "id": "WvIIJx-ghQ93",
        "outputId": "17e534bd-9097-4dcd-d920-ecc769a1a608"
      },
      "execution_count": 3,
      "outputs": [
        {
          "output_type": "stream",
          "name": "stdout",
          "text": [
            "[2, 3]\n"
          ]
        }
      ]
    },
    {
      "cell_type": "code",
      "source": [
        "##6 What is a complex number in mathematics, and how is it represented in Python?\n",
        "#Complex number = Real + Imaginary Number \"a+bi\" where a is real and b is imaginary part, with i reapresenting i^2 = -1\n",
        "#Python works with both real and imaginary numbers. Complex numbers are created from two real numbers, you can create it directly or use complex function.\n",
        "# ex \"a+bj\" , where a and b are real numbers and \"j\" is imaginary number just like \"i\" in math, python use \"j\" because \"i\" is used in electrical engineering as current.\n",
        "#we can use complex() function or where we can directly use real and imaginary number.\n",
        "#complex funtion\n",
        "x = complex(1,2)\n",
        "print(x)\n",
        "type(x)\n",
        "#directly\n",
        "y = 3+4j\n",
        "print(y)\n",
        "type(y)\n",
        "\n",
        "\n"
      ],
      "metadata": {
        "colab": {
          "base_uri": "https://localhost:8080/"
        },
        "id": "kaoIwnl60PsG",
        "outputId": "af91bbd4-5503-4e6f-bdb0-0b8c55ece43a"
      },
      "execution_count": 6,
      "outputs": [
        {
          "output_type": "stream",
          "name": "stdout",
          "text": [
            "(1+2j)\n",
            "(3+4j)\n"
          ]
        },
        {
          "output_type": "execute_result",
          "data": {
            "text/plain": [
              "complex"
            ]
          },
          "metadata": {},
          "execution_count": 6
        }
      ]
    },
    {
      "cell_type": "code",
      "source": [
        "##7 What is the correct way to declare a variable named age and assign the value 25 to it?\n",
        "#we can just directly just assign value to age variable\n",
        "#ex.\n",
        "age = 25\n",
        "print(age)"
      ],
      "metadata": {
        "colab": {
          "base_uri": "https://localhost:8080/"
        },
        "id": "zLP0YqFT_cz-",
        "outputId": "d51b9836-a6c1-4261-c5db-214a7a25bd59"
      },
      "execution_count": 7,
      "outputs": [
        {
          "output_type": "stream",
          "name": "stdout",
          "text": [
            "25\n"
          ]
        }
      ]
    },
    {
      "cell_type": "code",
      "source": [
        "##8 Declare a variable named price and assign the value 9.99 to it. What data type does this variable belong to?\n",
        "price = 9.99\n",
        "print(price)\n",
        "type(price)"
      ],
      "metadata": {
        "colab": {
          "base_uri": "https://localhost:8080/"
        },
        "id": "mtjFtyXRASHT",
        "outputId": "2715e449-4245-4790-9f0d-b6eec58c240b"
      },
      "execution_count": 8,
      "outputs": [
        {
          "output_type": "stream",
          "name": "stdout",
          "text": [
            "9.99\n"
          ]
        },
        {
          "output_type": "execute_result",
          "data": {
            "text/plain": [
              "float"
            ]
          },
          "metadata": {},
          "execution_count": 8
        }
      ]
    },
    {
      "cell_type": "code",
      "source": [
        "##9 Create a variable named name and assign your full name to it as a string. How would you print the  value of this variable?\n",
        "name = \"Ragini Kumari\"\n",
        "print(name)"
      ],
      "metadata": {
        "colab": {
          "base_uri": "https://localhost:8080/"
        },
        "id": "dxFnp5j-AxCk",
        "outputId": "0d84d156-35d7-4997-8c9c-d39b6324f5bf"
      },
      "execution_count": 9,
      "outputs": [
        {
          "output_type": "stream",
          "name": "stdout",
          "text": [
            "Ragini Kumari\n"
          ]
        }
      ]
    },
    {
      "cell_type": "code",
      "source": [
        "##10 Given the string \"Hello, World!\", extract the substring \"World\".\n",
        "my_str = \"Hello, World!\"\n",
        "sub_str = my_str[7:12]\n",
        "print(sub_str)"
      ],
      "metadata": {
        "colab": {
          "base_uri": "https://localhost:8080/"
        },
        "id": "fYqF4F9nBISy",
        "outputId": "28549504-b201-4264-ece2-8daf97e1bfae"
      },
      "execution_count": 14,
      "outputs": [
        {
          "output_type": "stream",
          "name": "stdout",
          "text": [
            "World\n"
          ]
        }
      ]
    },
    {
      "cell_type": "code",
      "source": [
        "##11 Create a variable named \"is_student\" and assign it a boolean value indicating whether you are  currently a student or not.\n",
        "is_student = False\n",
        "print(is_student)\n"
      ],
      "metadata": {
        "colab": {
          "base_uri": "https://localhost:8080/"
        },
        "id": "HDjaT__1B5qT",
        "outputId": "0e9e4ad9-8230-402a-e483-012c0b1166d7"
      },
      "execution_count": 15,
      "outputs": [
        {
          "output_type": "stream",
          "name": "stdout",
          "text": [
            "False\n"
          ]
        }
      ]
    },
    {
      "cell_type": "code",
      "source": [],
      "metadata": {
        "id": "7BLh7M5iCsS1"
      },
      "execution_count": null,
      "outputs": []
    }
  ]
}