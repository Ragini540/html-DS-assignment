{
  "nbformat": 4,
  "nbformat_minor": 0,
  "metadata": {
    "colab": {
      "provenance": []
    },
    "kernelspec": {
      "name": "python3",
      "display_name": "Python 3"
    },
    "language_info": {
      "name": "python"
    }
  },
  "cells": [
    {
      "cell_type": "markdown",
      "source": [
        "1.Create a vehicle class with an init method having instance variables as name_of_vehicle, max_speed\n",
        "and average_of_vehicle."
      ],
      "metadata": {
        "id": "0FV4hp8QHPTV"
      }
    },
    {
      "cell_type": "code",
      "execution_count": 1,
      "metadata": {
        "id": "fXbWLPxaDnfw"
      },
      "outputs": [],
      "source": [
        "class Vehicle:\n",
        "  def __init__(self, name_of_vehicle, max_speed, average_of_vehicle):\n",
        "    self.name_of_vehicle = name_of_vehicle\n",
        "    self.max_speed = max_speed\n",
        "    self.average_of_vehicle = average_of_vehicle\n",
        "\n",
        "  def return_vehicle_details(self):\n",
        "    return self.name_of_vehicle, self.max_speed, self.average_of_vehicle"
      ]
    },
    {
      "cell_type": "code",
      "source": [
        "car = Vehicle(\"Toyota\", 200, 10)"
      ],
      "metadata": {
        "id": "ddsw7Hq-HRef"
      },
      "execution_count": 3,
      "outputs": []
    },
    {
      "cell_type": "code",
      "source": [
        "car.return_vehicle_details()\n"
      ],
      "metadata": {
        "colab": {
          "base_uri": "https://localhost:8080/"
        },
        "id": "XhxPvycSIT2J",
        "outputId": "f882310b-1792-4277-f49e-505c21af5bc8"
      },
      "execution_count": 9,
      "outputs": [
        {
          "output_type": "execute_result",
          "data": {
            "text/plain": [
              "('Toyota', 200, 10)"
            ]
          },
          "metadata": {},
          "execution_count": 9
        }
      ]
    },
    {
      "cell_type": "code",
      "source": [
        "car.max_speed"
      ],
      "metadata": {
        "colab": {
          "base_uri": "https://localhost:8080/"
        },
        "id": "MhE9mBxMIwus",
        "outputId": "bf95bade-7689-4cc5-8066-60d1fb80c641"
      },
      "execution_count": 10,
      "outputs": [
        {
          "output_type": "execute_result",
          "data": {
            "text/plain": [
              "200"
            ]
          },
          "metadata": {},
          "execution_count": 10
        }
      ]
    },
    {
      "cell_type": "code",
      "source": [
        "\n",
        "car.average_of_vehicle"
      ],
      "metadata": {
        "colab": {
          "base_uri": "https://localhost:8080/"
        },
        "id": "IEVqK9V3I05O",
        "outputId": "6588181f-ffaa-45f6-ad4b-7a8d95a068fb"
      },
      "execution_count": 11,
      "outputs": [
        {
          "output_type": "execute_result",
          "data": {
            "text/plain": [
              "10"
            ]
          },
          "metadata": {},
          "execution_count": 11
        }
      ]
    },
    {
      "cell_type": "code",
      "source": [
        "car.name_of_vehicle"
      ],
      "metadata": {
        "colab": {
          "base_uri": "https://localhost:8080/",
          "height": 35
        },
        "id": "HgfRmDSyI3qy",
        "outputId": "67207366-95a9-40df-c89d-32c50ad55243"
      },
      "execution_count": 12,
      "outputs": [
        {
          "output_type": "execute_result",
          "data": {
            "text/plain": [
              "'Toyota'"
            ],
            "application/vnd.google.colaboratory.intrinsic+json": {
              "type": "string"
            }
          },
          "metadata": {},
          "execution_count": 12
        }
      ]
    },
    {
      "cell_type": "markdown",
      "source": [
        "2.Create a child class car from the vehicle class created in Que 1, which will inherit the vehicle class.\n",
        "Create a method named seating_capacity which takes capacity as an argument and returns the name of\n",
        "the vehicle and its seating capacity."
      ],
      "metadata": {
        "id": "D6hv1Qe2I_vJ"
      }
    },
    {
      "cell_type": "code",
      "source": [
        "class Vehicle:\n",
        "  def __init__(self, name_of_vehicle, max_speed, average_of_vehicle):\n",
        "    self.name_of_vehicle = name_of_vehicle\n",
        "    self.max_speed = max_speed\n",
        "    self.average_of_vehicle = average_of_vehicle\n",
        "\n",
        "class Car(Vehicle):\n",
        "  def seating_capacity(self, capacity):\n",
        "    self.capacity = capacity\n",
        "    return self.name_of_vehicle, self.capacity\n",
        "\n",
        "  def return_vehicle_details(self):\n",
        "    return self.name_of_vehicle, self.max_speed, self.average_of_vehicle, self.capacity"
      ],
      "metadata": {
        "id": "j0i-wB86I8R2"
      },
      "execution_count": 32,
      "outputs": []
    },
    {
      "cell_type": "code",
      "source": [
        "car = Car(\"Toyota\", 200, 10)"
      ],
      "metadata": {
        "id": "A1KOxDwmJBT1"
      },
      "execution_count": 33,
      "outputs": []
    },
    {
      "cell_type": "code",
      "source": [
        "car.seating_capacity(7)"
      ],
      "metadata": {
        "colab": {
          "base_uri": "https://localhost:8080/"
        },
        "id": "_sPXrtJ1Ku09",
        "outputId": "c67b5605-a965-41d9-edd8-16dec20b12fb"
      },
      "execution_count": 34,
      "outputs": [
        {
          "output_type": "execute_result",
          "data": {
            "text/plain": [
              "('Toyota', 7)"
            ]
          },
          "metadata": {},
          "execution_count": 34
        }
      ]
    },
    {
      "cell_type": "code",
      "source": [
        "#Multiple inheritance is a feature where a class can inherit from more than one parent class. This allows the child class to have properties and methods from multiple paresnt classes.\n",
        "class Book:\n",
        "  def book_name(self):\n",
        "    return \"The Alchemist\"\n",
        "\n",
        "class Author:\n",
        "  def book_author(self):\n",
        "    return \"Paulo Coelho\"\n",
        "\n",
        "class MyBook(Book, Author):\n",
        "  def book_details(self):\n",
        "    return \"My Favourite Book\"\n",
        "\n",
        "my_book = MyBook()\n",
        "\n",
        ""
      ],
      "metadata": {
        "id": "N-hP_oUjOjdN"
      },
      "execution_count": 42,
      "outputs": []
    },
    {
      "cell_type": "code",
      "source": [
        "my_book.book_name()"
      ],
      "metadata": {
        "colab": {
          "base_uri": "https://localhost:8080/",
          "height": 35
        },
        "id": "5HFsl9tiSkhs",
        "outputId": "4c04c09b-3133-4464-b02d-0cd951c414b6"
      },
      "execution_count": 43,
      "outputs": [
        {
          "output_type": "execute_result",
          "data": {
            "text/plain": [
              "'The Alchemist'"
            ],
            "application/vnd.google.colaboratory.intrinsic+json": {
              "type": "string"
            }
          },
          "metadata": {},
          "execution_count": 43
        }
      ]
    },
    {
      "cell_type": "code",
      "source": [
        "my_book.book_author()"
      ],
      "metadata": {
        "colab": {
          "base_uri": "https://localhost:8080/",
          "height": 35
        },
        "id": "KF8d6MXNTzjK",
        "outputId": "c8b523f5-0ee5-4b4d-fcd0-c47fc33560a8"
      },
      "execution_count": 45,
      "outputs": [
        {
          "output_type": "execute_result",
          "data": {
            "text/plain": [
              "'Paulo Coelho'"
            ],
            "application/vnd.google.colaboratory.intrinsic+json": {
              "type": "string"
            }
          },
          "metadata": {},
          "execution_count": 45
        }
      ]
    },
    {
      "cell_type": "code",
      "source": [
        "my_book.book_details()"
      ],
      "metadata": {
        "colab": {
          "base_uri": "https://localhost:8080/",
          "height": 35
        },
        "id": "N-RE9huoT3JQ",
        "outputId": "f167f042-4f6e-43ca-f6b9-fba9bfc6d628"
      },
      "execution_count": 46,
      "outputs": [
        {
          "output_type": "execute_result",
          "data": {
            "text/plain": [
              "'My Favourite Book'"
            ],
            "application/vnd.google.colaboratory.intrinsic+json": {
              "type": "string"
            }
          },
          "metadata": {},
          "execution_count": 46
        }
      ]
    },
    {
      "cell_type": "markdown",
      "source": [
        "4.What are getter and setter in python? Create a class and create a getter and a setter method in this\n",
        "class."
      ],
      "metadata": {
        "id": "CoOsESdsUF00"
      }
    },
    {
      "cell_type": "code",
      "source": [
        "#Getter and Setter methods are used to access and modify the private attributes of a class.\n",
        "#Getter is used to retrive data of private attribute\n",
        "#Setter is used to update the data\n",
        "class Person:\n",
        "  def __init__(self, name, age):\n",
        "    self._name = name\n",
        "    self._age = age\n",
        "\n",
        "  @property\n",
        "  def age(self):\n",
        "    return self._age\n",
        "\n",
        "  @age.setter\n",
        "  def age(self,age):\n",
        "    if age >0 :\n",
        "      self._age = age\n",
        "    else:\n",
        "      return \"Invalid Age\""
      ],
      "metadata": {
        "id": "BNABeJ6iT-H3"
      },
      "execution_count": 64,
      "outputs": []
    },
    {
      "cell_type": "code",
      "source": [
        "\n",
        "person = Person(\"Rahul\", 40)"
      ],
      "metadata": {
        "id": "lAFFu4l0VxyC"
      },
      "execution_count": 65,
      "outputs": []
    },
    {
      "cell_type": "code",
      "source": [
        "person.age"
      ],
      "metadata": {
        "colab": {
          "base_uri": "https://localhost:8080/"
        },
        "id": "FutYty93WC09",
        "outputId": "0e45d09b-9a1a-46aa-8dcf-15586d071808"
      },
      "execution_count": 66,
      "outputs": [
        {
          "output_type": "execute_result",
          "data": {
            "text/plain": [
              "40"
            ]
          },
          "metadata": {},
          "execution_count": 66
        }
      ]
    },
    {
      "cell_type": "code",
      "source": [
        "person.age = -20"
      ],
      "metadata": {
        "id": "Y8LOEpfYV4c_"
      },
      "execution_count": 67,
      "outputs": []
    },
    {
      "cell_type": "code",
      "source": [
        "person.age"
      ],
      "metadata": {
        "colab": {
          "base_uri": "https://localhost:8080/"
        },
        "id": "4kJ1CABRV_zu",
        "outputId": "9e69c38e-c85c-4d31-9220-839f55a296ac"
      },
      "execution_count": 69,
      "outputs": [
        {
          "output_type": "execute_result",
          "data": {
            "text/plain": [
              "40"
            ]
          },
          "metadata": {},
          "execution_count": 69
        }
      ]
    },
    {
      "cell_type": "code",
      "source": [
        "person.age = 20"
      ],
      "metadata": {
        "id": "lyNvfFQJWG_H"
      },
      "execution_count": 70,
      "outputs": []
    },
    {
      "cell_type": "code",
      "source": [
        "person.age"
      ],
      "metadata": {
        "colab": {
          "base_uri": "https://localhost:8080/"
        },
        "id": "dM9PrNsDWdoj",
        "outputId": "f9eba7d2-bb95-489d-b413-36bc1ec8e3d0"
      },
      "execution_count": 71,
      "outputs": [
        {
          "output_type": "execute_result",
          "data": {
            "text/plain": [
              "20"
            ]
          },
          "metadata": {},
          "execution_count": 71
        }
      ]
    },
    {
      "cell_type": "markdown",
      "source": [
        "5.What is method overriding in python? Write a python code to demonstrate method overriding."
      ],
      "metadata": {
        "id": "K8_GxJi2WnoQ"
      }
    },
    {
      "cell_type": "code",
      "source": [
        "#Method Overriding is an ability that allows child class to provide a specific implementation of a method that is already provided by parent class.When child has the same data as amethod in it parent class then the method in child class overide the method in parent class.\n",
        "class pwskills:\n",
        "  def data_science(self):\n",
        "    return \"This is my data science class\"\n",
        "\n",
        "class pwskills1(pwskills):\n",
        "  def data_science(self):\n",
        "    return \"This is my data science class 1\"\n",
        "\n",
        "class pwskills2(pwskills):\n",
        "  def data_science(self):\n",
        "    return \"This is my data science class 2\"\n",
        "\n",
        "pw = pwskills()\n",
        "pw1 = pwskills1()\n",
        "pw2 = pwskills2()\n"
      ],
      "metadata": {
        "id": "z186PD8IWfu0"
      },
      "execution_count": 73,
      "outputs": []
    },
    {
      "cell_type": "code",
      "source": [
        "pw.data_science()"
      ],
      "metadata": {
        "colab": {
          "base_uri": "https://localhost:8080/",
          "height": 35
        },
        "id": "QDfPISlhajCP",
        "outputId": "48fb4047-6f6b-4b89-d034-5d2ec713d13c"
      },
      "execution_count": 74,
      "outputs": [
        {
          "output_type": "execute_result",
          "data": {
            "text/plain": [
              "'This is my data science class'"
            ],
            "application/vnd.google.colaboratory.intrinsic+json": {
              "type": "string"
            }
          },
          "metadata": {},
          "execution_count": 74
        }
      ]
    },
    {
      "cell_type": "code",
      "source": [
        "pw1.data_science()"
      ],
      "metadata": {
        "colab": {
          "base_uri": "https://localhost:8080/",
          "height": 35
        },
        "id": "T1XckEl-auaW",
        "outputId": "bac21bb4-8f37-4dcd-9ae3-e58ce234da89"
      },
      "execution_count": 75,
      "outputs": [
        {
          "output_type": "execute_result",
          "data": {
            "text/plain": [
              "'This is my data science class 1'"
            ],
            "application/vnd.google.colaboratory.intrinsic+json": {
              "type": "string"
            }
          },
          "metadata": {},
          "execution_count": 75
        }
      ]
    },
    {
      "cell_type": "code",
      "source": [
        "pw2.data_science()"
      ],
      "metadata": {
        "colab": {
          "base_uri": "https://localhost:8080/",
          "height": 35
        },
        "id": "ofNiweIyayV3",
        "outputId": "47942797-cb35-4d5c-9cc9-1b85a0cbc538"
      },
      "execution_count": 76,
      "outputs": [
        {
          "output_type": "execute_result",
          "data": {
            "text/plain": [
              "'This is my data science class 2'"
            ],
            "application/vnd.google.colaboratory.intrinsic+json": {
              "type": "string"
            }
          },
          "metadata": {},
          "execution_count": 76
        }
      ]
    },
    {
      "cell_type": "code",
      "source": [],
      "metadata": {
        "id": "bWZiiAjda0-v"
      },
      "execution_count": null,
      "outputs": []
    }
  ]
}