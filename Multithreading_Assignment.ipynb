{
  "nbformat": 4,
  "nbformat_minor": 0,
  "metadata": {
    "colab": {
      "provenance": []
    },
    "kernelspec": {
      "name": "python3",
      "display_name": "Python 3"
    },
    "language_info": {
      "name": "python"
    }
  },
  "cells": [
    {
      "cell_type": "markdown",
      "source": [
        "Q1. What is multithreading in python? Why is it used? Name the module used to handle threads in python."
      ],
      "metadata": {
        "id": "iNHTLxANMLOY"
      }
    },
    {
      "cell_type": "markdown",
      "source": [
        "Multithreading in Python allows concurrent execution of multiple threads within a single process, sharing the same memory space. It is particularly useful for I/O-bound tasks (like file reading or network requests) and can improve performance by handling multiple tasks simultaneously.\n",
        "\n",
        "\n",
        "Multithreading in Python is used to improve program efficiency and responsiveness, particularly for I/O-bound tasks. It allows multiple threads to run concurrently, enabling one thread to wait for I/O operations (like file or network access) while others continue executing. Although Python's Global Interpreter Lock (GIL) limits parallel execution for CPU-bound tasks, multithreading is effective for handling blocking operations and keeping applications responsive, especially in user interfaces or web servers.\n",
        "\n",
        "Python's threading module is used to handle threads and multithreading, providing a high-level interface for creating and managing threads. Key features include thread creation with the Thread class, synchronization tools like locks and semaphores for safe data access, and thread lifecycle management with methods such as start(), join(), and is_alive()."
      ],
      "metadata": {
        "id": "vardx4w5M4Fo"
      }
    },
    {
      "cell_type": "markdown",
      "source": [
        "Q2. Why threading module used? Write the use of the following functions\n",
        "1. activeCount()\n",
        "2. currentThread()\n",
        "3. enumerate()"
      ],
      "metadata": {
        "id": "xj0i8JtKOR0n"
      }
    },
    {
      "cell_type": "markdown",
      "source": [
        "The threading module in Python enables concurrent execution by creating and managing multiple threads within a single process. It allows you to run tasks concurrently, synchronize threads with tools like Lock, Event, and Semaphore to manage shared resources, and control thread execution using methods to start, pause, stop, and check if threads are running. It's particularly useful for improving the efficiency of I/O-bound applications.\n",
        "\n",
        "1. activeCount() - The activeCount() function returns the number of currently active threads, including the main thread and any worker threads that are still running.\n",
        "\n",
        "2. currentThread() - The currentThread() function returns a reference to the currently executing Thread object, useful for debugging or logging the active thread at a given time.\n",
        "\n",
        "3. enumerate() - The enumerate() function returns a list of all currently active Thread objects, including the main thread, providing information about all running threads in the program."
      ],
      "metadata": {
        "id": "LajDRpwvO1OG"
      }
    },
    {
      "cell_type": "markdown",
      "source": [
        "Q3. Explain the following functions\n",
        "1. run()\n",
        "2. start()\n",
        "3. join()\n",
        "4. isAlive()"
      ],
      "metadata": {
        "id": "bvaX5j9MQKxF"
      }
    },
    {
      "cell_type": "markdown",
      "source": [
        "1. run()\n",
        "The run() method defines the code executed by a thread when it starts. It should not be called directly; instead, it is automatically invoked when the thread's start() method is called. You can override the run() method in a custom thread class by subclassing Thread to specify the behavior of the thread.\n",
        "\n",
        "2. start()\n",
        "The start() method begins a thread's execution by invoking the run() method in a separate thread. It creates a new thread and runs it concurrently with the main program or other threads. You should call start() only once per thread; calling it again will raise a RuntimeError.\n",
        "\n",
        "3. join()\n",
        "The join() method blocks the calling thread usually the main thread until the specified thread finishes executing. It's used to wait for one or more threads to complete before proceeding with the rest of the program.\n",
        "\n",
        "4. isAlive()\n",
        "The is_alive() method checks if a thread is still running. It returns True if the thread is alive and False otherwise. In Python 3.10 and beyond, isAlive() is deprecated, and is_alive() should be used instead."
      ],
      "metadata": {
        "id": "hSpJMZb3Q-be"
      }
    },
    {
      "cell_type": "markdown",
      "source": [
        "Q4. Write a python program to create two threads. Thread one must print the list of squares and thread\n",
        "two must print the list of cubes."
      ],
      "metadata": {
        "id": "-hGybtR0Sk9L"
      }
    },
    {
      "cell_type": "code",
      "source": [
        "import threading\n",
        "\n",
        "def squares():\n",
        "  my_squares = [i**2 for i in range(1, 5)]\n",
        "  print(\"Squares:\", my_squares)\n",
        "\n",
        "def cubes():\n",
        "  my_cubes = [i**3 for i in range(1, 5)]\n",
        "  print(\"Cubes:\", my_cubes)\n",
        "\n",
        "t1 = threading.Thread(target=squares)\n",
        "t2 = threading.Thread(target=cubes)\n",
        "\n",
        "t1.start()\n",
        "t2.start()\n",
        "t1.join()\n",
        "t2.join()\n",
        "\n",
        "print(\"Thread is Completed\")\n",
        "\n",
        "\n"
      ],
      "metadata": {
        "colab": {
          "base_uri": "https://localhost:8080/"
        },
        "id": "w6iXlEeGSgho",
        "outputId": "4b7c68ce-faec-4f0b-cdc2-be9161437587"
      },
      "execution_count": 2,
      "outputs": [
        {
          "output_type": "stream",
          "name": "stdout",
          "text": [
            "Squares:Cubes: [1, 4, 9, 16]\n",
            " [1, 8, 27, 64]\n",
            "Thread is Completed\n"
          ]
        }
      ]
    },
    {
      "cell_type": "markdown",
      "source": [
        "Q5. State advantages and disadvantages of multithreading."
      ],
      "metadata": {
        "id": "3q1clFLqUa-l"
      }
    },
    {
      "cell_type": "markdown",
      "source": [
        "Advantages\n",
        "- **Improved Performance in I/O-bound Tasks**: Multithreading enhances performance for tasks waiting on I/O operations (e.g., file reading, network requests) by allowing other threads to work while one is blocked.  \n",
        "  *Example*: A web scraper using multiple threads to send HTTP requests concurrently.\n",
        "\n",
        "- **Better CPU Utilization for I/O-bound Workloads**: Multithreading enables better use of CPU resources when waiting for I/O, as multiple threads can work in parallel without blocking the entire program.\n",
        "\n",
        "- **Responsiveness**: In programs with user interfaces (UIs), multithreading ensures the main thread remains responsive while background tasks run in separate threads.  \n",
        "  *Example*: In a media player, one thread handles UI rendering while another handles media playback.\n",
        "\n",
        "- **Concurrency**: Multithreading allows multiple threads to run independently, ideal for tasks like handling multiple user requests or parallel data processing.  \n",
        "  *Example*: A web server processing requests from multiple clients concurrently.\n",
        "\n",
        "- **Resource Sharing**: Threads share the same memory space, making it easier to communicate and share resources like variables and data structures.  \n",
        "  *Example*: A multithreaded database application accessing a shared database cache.\n",
        "\n",
        "Disadvantages\n",
        "- **Complexity in Design and Debugging**: Multithreaded programs are more complex to design and debug due to issues like race conditions, deadlocks, and synchronization challenges.  \n",
        "  *Example*: Race conditions can occur if threads access shared data without proper synchronization.\n",
        "\n",
        "- **Concurrency Issues**: Issues like race conditions, deadlocks, and livelocks arise when threads interfere with each other, requiring careful synchronization to avoid them.  \n",
        "  *Example*: Deadlock occurs when two threads wait for each other to release resources, freezing the program.\n",
        "\n",
        "- **Increased Memory Overhead**: Each thread requires its own stack space, leading to higher memory consumption when managing many threads, which can impact performance.  \n",
        "  *Example*: A web server with thousands of threads for concurrent connections may consume excessive memory.\n",
        "\n",
        "- **Difficulty in Achieving True Parallelism (due to GIL)**: The Global Interpreter Lock (GIL) in Python prevents true parallel execution of CPU-bound tasks, limiting the benefits of multithreading for such tasks.  \n",
        "  *Example*: CPU-heavy tasks like matrix multiplication are bottlenecked by the GIL in Python.\n",
        "\n",
        "- **Context Switching Overhead**: Frequent context switching between threads can reduce performance, especially with a large number of threads.  \n",
        "  *Example*: With thousands of threads, the overhead of switching between them may outweigh the execution time.\n",
        "\n",
        "- **Harder to Scale for CPU-bound Tasks**: Multithreading may not be effective for CPU-bound tasks due to the GIL. Using multiprocessing (separate processes) can offer better performance.  \n",
        "  *Example*: Heavy computations in Python may benefit more from multiprocessing than multithreading.\n",
        "\n",
        "- **Increased Risk of Bugs**: Bugs like race conditions or deadlocks can be hard to reproduce and fix due to the non-deterministic behavior of multithreaded programs.  \n",
        "  *Example*: Data corruption may occur when threads try to update shared resources simultaneously, but the bug may not always happen due to unpredictable thread execution order."
      ],
      "metadata": {
        "id": "nwoOw_RBU6TZ"
      }
    },
    {
      "cell_type": "markdown",
      "source": [
        "Q6. Explain deadlocks and race conditions."
      ],
      "metadata": {
        "id": "aR-NT5lIWZow"
      }
    },
    {
      "cell_type": "markdown",
      "source": [
        "A **deadlock** occurs in a multithreaded or multiprocess system when two or more threads are blocked indefinitely, each waiting for a resource held by the other. This results in a circular dependency where no thread can proceed.\n",
        "\n",
        "The four conditions for deadlock (Coffman conditions) are:\n",
        "1. Mutual Exclusion: At least one resource is held in a non-shareable mode.\n",
        "2. Hold and Wait: A thread holds one resource and waits for another.\n",
        "3. No Preemption: Resources cannot be forcibly taken from threads.\n",
        "4. Circular Wait: A circular chain of threads exists, each waiting for a resource held by the next thread.\n",
        "\n",
        "A **race condition** occurs when multiple threads access and modify a shared resource simultaneously without proper synchronization. This leads to unpredictable and incorrect behavior, as the program's outcome depends on the non-deterministic order of thread execution, which can vary each time the program runs."
      ],
      "metadata": {
        "id": "NpqojQEHWvm3"
      }
    },
    {
      "cell_type": "code",
      "source": [],
      "metadata": {
        "id": "H-cTdLq3UIZ_"
      },
      "execution_count": null,
      "outputs": []
    }
  ]
}