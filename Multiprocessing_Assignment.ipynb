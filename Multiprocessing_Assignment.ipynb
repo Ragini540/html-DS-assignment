{
  "nbformat": 4,
  "nbformat_minor": 0,
  "metadata": {
    "colab": {
      "provenance": []
    },
    "kernelspec": {
      "name": "python3",
      "display_name": "Python 3"
    },
    "language_info": {
      "name": "python"
    }
  },
  "cells": [
    {
      "cell_type": "markdown",
      "source": [
        "Q1. What is multiprocessing in python? Why is it useful?"
      ],
      "metadata": {
        "id": "u_7Mb38wZsVG"
      }
    },
    {
      "cell_type": "markdown",
      "source": [
        "Multiprocessing in Python allows multiple processes to run concurrently, each with its own Python interpreter and memory space, enabling full utilization of multiple CPU cores. The multiprocessing module provides tools to create and manage these processes, making it ideal for achieving parallelism in CPU-bound tasks.\n",
        "\n",
        "It is useful because:\n",
        "\n",
        "- **Bypasses the Global Interpreter Lock (GIL)**: Multiprocessing avoids the GIL limitation of multithreading, allowing multiple processes to run on separate CPU cores in parallel, improving performance for CPU-bound tasks.\n",
        "\n",
        "- **True Parallelism**: Unlike threads, multiprocessing provides true parallelism by using multiple processes, each running on its own CPU core, making it ideal for CPU-intensive tasks.\n",
        "\n",
        "- **Improved Performance for CPU-bound Tasks**: CPU-bound tasks like mathematical computations, image processing, and data analysis benefit from multiprocessing by distributing the workload across multiple cores, reducing execution time.\n",
        "\n",
        "- **Isolation of Processes**: Each process runs in its own memory space, so if one process fails, it doesn't affect others, offering better fault tolerance and independent execution environments.\n",
        "\n",
        "- **Better Resource Utilization**: Multiprocessing fully utilizes all CPU cores in a multi-core system, enabling faster execution of computationally intensive tasks by dividing work across multiple cores."
      ],
      "metadata": {
        "id": "_fDvVvrmZ6xP"
      }
    },
    {
      "cell_type": "markdown",
      "source": [
        "Q2. What are the differences between multiprocessing and multithreading?"
      ],
      "metadata": {
        "id": "KoiD_Rmca1hN"
      }
    },
    {
      "cell_type": "markdown",
      "source": [
        "Differences Between Multiprocessing and Multithreading:\n",
        "\n",
        "1. **Concept**:\n",
        "   - Multiprocessing: Uses multiple processes, each with its own memory space and Python interpreter. Achieves true parallelism, ideal for CPU-bound tasks.\n",
        "   - Multithreading: Uses multiple threads within a single process, sharing the same memory space. Best for I/O-bound tasks but limited by the Global Interpreter Lock (GIL) for CPU-bound tasks.\n",
        "\n",
        "2. **Memory and Resources**:\n",
        "   - Multiprocessing: Each process has its own memory space, offering isolation but higher memory consumption.\n",
        "   - Multithreading: Threads share the same memory space, making them memory efficient but susceptible to data corruption (race conditions).\n",
        "\n",
        "3. **Performance (Parallelism)**:\n",
        "   - Multiprocessing: Provides true parallelism, ideal for CPU-bound tasks, as each process can run on a separate CPU core.\n",
        "   - Multithreading: Limited by the GIL for CPU-bound tasks, better for I/O-bound tasks where threads spend time waiting for external resources.\n",
        "\n",
        "4. **Overhead**:\n",
        "   - Multiprocessing: Higher overhead due to separate processes, memory allocation, and slower inter-process communication.\n",
        "   - Multithreading: Lower overhead as threads share memory, but synchronization mechanisms are needed for shared resources.\n",
        "\n",
        "5. **Fault Isolation**:\n",
        "   - Multiprocessing: Processes are isolated, so a failure in one process doesn't affect others, offering better fault tolerance.\n",
        "   - Multithreading: Threads share memory, so a crash in one thread can affect the entire program, making it less fault-tolerant.\n",
        "\n",
        "6. **Suitability for Tasks**:\n",
        "   - Multiprocessing: Best for CPU-bound tasks like scientific computing, data processing, image/video processing, and machine learning.\n",
        "   - Multithreading: Best for I/O-bound tasks like web scraping, file operations, network communication, and database queries.\n",
        "\n",
        "7. **Ease of Use**:\n",
        "   - Multiprocessing: More complex to set up due to process management, inter-process communication, and memory isolation.\n",
        "   - Multithreading: Easier to set up and use, especially for tasks involving concurrency, with available synchronization tools like Locks and Semaphores."
      ],
      "metadata": {
        "id": "7V3oFANZbI9V"
      }
    },
    {
      "cell_type": "markdown",
      "source": [
        "Q3. Write a python code to create a process using the multiprocessing module."
      ],
      "metadata": {
        "id": "9W2UZkMTcy5D"
      }
    },
    {
      "cell_type": "code",
      "execution_count": 8,
      "metadata": {
        "colab": {
          "base_uri": "https://localhost:8080/"
        },
        "id": "7RWCdWFTZNcs",
        "outputId": "311d5ec5-b717-45bb-c2de-3e64f9cc8ce9"
      },
      "outputs": [
        {
          "output_type": "stream",
          "name": "stdout",
          "text": [
            "No.: 0\n",
            "No.: 1\n",
            "No.: 2\n",
            "No.: 3\n",
            "No.: 4\n",
            "No.: 5\n",
            "No.: 6\n",
            "No.: 7\n",
            "No.: 8\n",
            "No.: 9\n",
            "Finished Execution\n"
          ]
        }
      ],
      "source": [
        "import multiprocessing\n",
        "import time\n",
        "\n",
        "def numbers():\n",
        "  for i in range(10):\n",
        "    print(f\"No.: {i}\")\n",
        "\n",
        "    time.sleep(1)\n",
        "\n",
        "if __name__ == \"__main__\":\n",
        "  process = multiprocessing.Process(target = numbers)\n",
        "  process.start()\n",
        "  process.join()\n",
        "  print(\"Finished Execution\")"
      ]
    },
    {
      "cell_type": "markdown",
      "source": [
        "Q4. What is a multiprocessing pool in python? Why is it used?"
      ],
      "metadata": {
        "id": "LsrxLugCekgy"
      }
    },
    {
      "cell_type": "markdown",
      "source": [
        "In Python's multiprocessing module, a Pool is a collection of worker processes used to perform tasks concurrently. It allows parallel processing by distributing work across multiple processes, making it easier to handle large data or computational tasks. The Pool class manages a fixed number of worker processes and assigns tasks, enabling efficient use of multiple CPU cores.\n",
        "\n",
        "It is used for th following:\n",
        "\n",
        "1. **Parallel Execution**: Enables parallel execution of a function across multiple processes, ideal for CPU-bound tasks, improving performance by utilizing multiple CPU cores.\n",
        "\n",
        "2. **Resource Management**: Simplifies process creation and management, handling the distribution of tasks to worker processes automatically.\n",
        "\n",
        "3. **Efficient Task Distribution**: Divides work into chunks and assigns them to worker processes efficiently, enhancing performance over sequential execution.\n",
        "\n",
        "4. **Task Coordination**: Provides built-in functions (e.g., map(), apply(), apply_async(), starmap()) to distribute tasks, handle results, and manage errors, while managing worker processes behind the scenes."
      ],
      "metadata": {
        "id": "CTIZRpPZeyK4"
      }
    },
    {
      "cell_type": "markdown",
      "source": [
        "Q5. How can we create a pool of worker processes in python using the multiprocessing module?"
      ],
      "metadata": {
        "id": "3r4L4adbfk-j"
      }
    },
    {
      "cell_type": "markdown",
      "source": [
        "**Steps to Create a Pool of Worker Processes in Python:**\n",
        "\n",
        "1. **Import the multiprocessing module**: Import the required module for multiprocessing functionality.\n",
        "  \n",
        "2. **Create a pool of worker processes**: Use Pool() to create a pool with a fixed number of worker processes.\n",
        "\n",
        "3. **Distribute tasks**: Use methods like map(), apply(), or apply_async() to assign tasks to the worker processes.\n",
        "\n",
        "4. **Close the pool**: Call close() when no more tasks will be added.\n",
        "\n",
        "5. **Wait for completion**: Use join() to ensure all processes complete before continuing."
      ],
      "metadata": {
        "id": "uy98CG7yMXBG"
      }
    },
    {
      "cell_type": "markdown",
      "source": [
        "Q6. Write a python program to create 4 processes, each process should print a different number using the\n",
        "multiprocessing module in python."
      ],
      "metadata": {
        "id": "1YkUAn0WM4QO"
      }
    },
    {
      "cell_type": "code",
      "source": [
        "import multiprocessing\n",
        "\n",
        "def numbers(number):\n",
        "  print(f\"number:{number}\")\n",
        "\n",
        "if __name__ == \"__main__\":\n",
        "  processes = []\n",
        "  for i in range(4):\n",
        "    process = multiprocessing.Process(target = numbers, args = (i,))\n",
        "    processes.append(process)\n",
        "\n",
        "    process.start()\n",
        "\n",
        "    for process in processes:\n",
        "      process.join()\n",
        "\n",
        "    print(\"Process successfully completed.\")"
      ],
      "metadata": {
        "colab": {
          "base_uri": "https://localhost:8080/"
        },
        "id": "pABjbnEAeB2T",
        "outputId": "a372f5ab-838f-4719-82e5-d3200a50cc93"
      },
      "execution_count": 2,
      "outputs": [
        {
          "output_type": "stream",
          "name": "stdout",
          "text": [
            "number:0\n",
            "Process successfully completed.\n",
            "number:1\n",
            "Process successfully completed.\n",
            "number:2\n",
            "Process successfully completed.\n",
            "number:3\n",
            "Process successfully completed.\n"
          ]
        }
      ]
    },
    {
      "cell_type": "code",
      "source": [],
      "metadata": {
        "id": "1sj1lIbPN3hq"
      },
      "execution_count": null,
      "outputs": []
    }
  ]
}