{
  "nbformat": 4,
  "nbformat_minor": 0,
  "metadata": {
    "colab": {
      "provenance": []
    },
    "kernelspec": {
      "name": "python3",
      "display_name": "Python 3"
    },
    "language_info": {
      "name": "python"
    }
  },
  "cells": [
    {
      "cell_type": "code",
      "source": [
        "##1 Variable containing type of data:"
      ],
      "metadata": {
        "id": "M-beXsUQaqOR"
      },
      "execution_count": 10,
      "outputs": []
    },
    {
      "cell_type": "code",
      "source": [
        "type(my_string)"
      ],
      "metadata": {
        "colab": {
          "base_uri": "https://localhost:8080/"
        },
        "id": "189f4MR9Z92H",
        "outputId": "70d9ef83-238d-488f-859c-fc2a77b3d545"
      },
      "execution_count": 2,
      "outputs": [
        {
          "output_type": "execute_result",
          "data": {
            "text/plain": [
              "str"
            ]
          },
          "metadata": {},
          "execution_count": 2
        }
      ]
    },
    {
      "cell_type": "code",
      "execution_count": 1,
      "metadata": {
        "id": "VuLyz0HmZtAN"
      },
      "outputs": [],
      "source": [
        "my_string = \"Hi this is Ragini Kumari\""
      ]
    },
    {
      "cell_type": "code",
      "source": [
        "List = [1, 2, 3, 4, \"name\", \"data\"]"
      ],
      "metadata": {
        "id": "Yr0p_thgaCvF"
      },
      "execution_count": 3,
      "outputs": []
    },
    {
      "cell_type": "code",
      "source": [
        "type(List)"
      ],
      "metadata": {
        "colab": {
          "base_uri": "https://localhost:8080/"
        },
        "id": "ZL6f-jMlaOWd",
        "outputId": "b04fb753-a3e8-4026-e933-64dbabbdf4be"
      },
      "execution_count": 4,
      "outputs": [
        {
          "output_type": "execute_result",
          "data": {
            "text/plain": [
              "list"
            ]
          },
          "metadata": {},
          "execution_count": 4
        }
      ]
    },
    {
      "cell_type": "code",
      "source": [
        "float = 2.06"
      ],
      "metadata": {
        "id": "uH8XYrjqaSD9"
      },
      "execution_count": 5,
      "outputs": []
    },
    {
      "cell_type": "code",
      "source": [
        "type(float)"
      ],
      "metadata": {
        "colab": {
          "base_uri": "https://localhost:8080/"
        },
        "id": "aCnssNn4aWnq",
        "outputId": "f4c7ecd7-fa3c-4b17-8806-fcb33d37beab"
      },
      "execution_count": 7,
      "outputs": [
        {
          "output_type": "execute_result",
          "data": {
            "text/plain": [
              "float"
            ]
          },
          "metadata": {},
          "execution_count": 7
        }
      ]
    },
    {
      "cell_type": "code",
      "source": [
        "tuple = (1,2,3,4,2323,\"name\", \"data\")"
      ],
      "metadata": {
        "id": "TBZv2JcvaZUm"
      },
      "execution_count": 8,
      "outputs": []
    },
    {
      "cell_type": "code",
      "source": [
        "type(tuple)"
      ],
      "metadata": {
        "colab": {
          "base_uri": "https://localhost:8080/"
        },
        "id": "eowtePAvaoCc",
        "outputId": "5f27cf75-6d4b-425e-9467-b143c52df719"
      },
      "execution_count": 9,
      "outputs": [
        {
          "output_type": "execute_result",
          "data": {
            "text/plain": [
              "tuple"
            ]
          },
          "metadata": {},
          "execution_count": 9
        }
      ]
    },
    {
      "cell_type": "code",
      "source": [
        "##2 the data type of the below given variable."
      ],
      "metadata": {
        "id": "ZnNSeKq-cnS-"
      },
      "execution_count": 11,
      "outputs": []
    },
    {
      "cell_type": "markdown",
      "source": [
        "(i) var1 = ‘ ‘ = **String**\n",
        "(ii) var2 = ‘[ DS , ML , Python]’ = **String**\n",
        "(iii) var3 = [ ‘DS’ , ’ML’ , ‘Python’ ]= **list**\n",
        "(iv) var4 = 1. = **float**\n",
        "\n"
      ],
      "metadata": {
        "id": "LhPBmtPGdWxm"
      }
    },
    {
      "cell_type": "code",
      "source": [
        "##3 the use of the following operators using an example.\n"
      ],
      "metadata": {
        "id": "sbG8YG8jdY-N"
      },
      "execution_count": 14,
      "outputs": []
    },
    {
      "cell_type": "markdown",
      "source": [
        "(i) / = **Division**,\n",
        "(ii) % = **Modulus**,\n",
        "(iii) // = **Floor** **Division**,\n",
        "(iv) ** = **Exponentiation**\n"
      ],
      "metadata": {
        "id": "WGLHlZwLemMU"
      }
    },
    {
      "cell_type": "code",
      "source": [
        "# #4 Create a list of length 10 of your choice containing multiple types of data. Using for loop print the element and its data type."
      ],
      "metadata": {
        "id": "aZM-JF_Qd_ip"
      },
      "execution_count": 15,
      "outputs": []
    },
    {
      "cell_type": "code",
      "source": [
        "my_list = [\"apple\",\"mango\",544,12323,2.398,True,False,[12,323,233],{'name':'ragini'},(1,2,3)]"
      ],
      "metadata": {
        "id": "n8JfVQryen-n"
      },
      "execution_count": 2,
      "outputs": []
    },
    {
      "cell_type": "code",
      "source": [
        "for x in my_list:\n",
        "  print(x)"
      ],
      "metadata": {
        "colab": {
          "base_uri": "https://localhost:8080/"
        },
        "id": "ZKGcKvS1hf8p",
        "outputId": "7ed508d4-87a2-4699-f6ec-33113242e30e"
      },
      "execution_count": 3,
      "outputs": [
        {
          "output_type": "stream",
          "name": "stdout",
          "text": [
            "apple\n",
            "mango\n",
            "544\n",
            "12323\n",
            "2.398\n",
            "True\n",
            "False\n",
            "[12, 323, 233]\n",
            "{'name': 'ragini'}\n",
            "(1, 2, 3)\n"
          ]
        }
      ]
    },
    {
      "cell_type": "code",
      "source": [
        "##5 Using a while loop, verify if the number A is purely divisible by number B and if so then how many times it can be divisible."
      ],
      "metadata": {
        "id": "6ph3886uyw0M"
      },
      "execution_count": 4,
      "outputs": []
    },
    {
      "cell_type": "code",
      "source": [
        "a = 128\n",
        "b = 2\n",
        "count = 0\n",
        "while a%b == 0:\n",
        "  a=a//b\n",
        "  count += 1\n",
        "\n",
        "if count > 0 :\n",
        "  print (f\"the number is divisible {count} times by {b}\")\n",
        "else:\n",
        "    print(f\"the number is not divisible by {b}\")\n",
        ""
      ],
      "metadata": {
        "colab": {
          "base_uri": "https://localhost:8080/"
        },
        "id": "pFiC77DwzRTO",
        "outputId": "fc1918eb-f35c-4a91-b74d-2c8de3dd0f5b"
      },
      "execution_count": 16,
      "outputs": [
        {
          "output_type": "stream",
          "name": "stdout",
          "text": [
            "the number is divisible 7 times by 2\n"
          ]
        }
      ]
    },
    {
      "cell_type": "code",
      "source": [
        "##6 Create a list containing 25 int type data. Using for loop and if-else condition print if the element is divisible by 3 or not."
      ],
      "metadata": {
        "id": "_nIyrgpl1G-i"
      },
      "execution_count": 10,
      "outputs": []
    },
    {
      "cell_type": "code",
      "source": [
        "my_int_list = [1,2,3,4,5,6,7,8,9,10,11,12,13,14,15,16,17,18,19,20,21,22,23,24,25]"
      ],
      "metadata": {
        "id": "HvNKODtO1etc"
      },
      "execution_count": 11,
      "outputs": []
    },
    {
      "cell_type": "code",
      "source": [
        "for num in my_int_list:\n",
        "  if num % 3 == 0:\n",
        "    print(f\"{num} is divisible by 3\")\n",
        "  else:\n",
        "    print(f\"{num} is not divisible by 3\")"
      ],
      "metadata": {
        "colab": {
          "base_uri": "https://localhost:8080/"
        },
        "id": "dF91oK6E3BlG",
        "outputId": "8ddc0004-7420-44d9-b40d-7a1bacaee3e2"
      },
      "execution_count": 17,
      "outputs": [
        {
          "output_type": "stream",
          "name": "stdout",
          "text": [
            "1 is not divisible by 3\n",
            "2 is not divisible by 3\n",
            "3 is divisible by 3\n",
            "4 is not divisible by 3\n",
            "5 is not divisible by 3\n",
            "6 is divisible by 3\n",
            "7 is not divisible by 3\n",
            "8 is not divisible by 3\n",
            "9 is divisible by 3\n",
            "10 is not divisible by 3\n",
            "11 is not divisible by 3\n",
            "12 is divisible by 3\n",
            "13 is not divisible by 3\n",
            "14 is not divisible by 3\n",
            "15 is divisible by 3\n",
            "16 is not divisible by 3\n",
            "17 is not divisible by 3\n",
            "18 is divisible by 3\n",
            "19 is not divisible by 3\n",
            "20 is not divisible by 3\n",
            "21 is divisible by 3\n",
            "22 is not divisible by 3\n",
            "23 is not divisible by 3\n",
            "24 is divisible by 3\n",
            "25 is not divisible by 3\n"
          ]
        }
      ]
    },
    {
      "cell_type": "code",
      "source": [
        "##7 What do you understand about mutable and immutable data types? Give examples for both showing this property."
      ],
      "metadata": {
        "id": "eIdcclNG3Lng"
      },
      "execution_count": 18,
      "outputs": []
    },
    {
      "cell_type": "code",
      "source": [
        "## Mutuable Data structure can be changed after it is created. it simply mean that we can overwrite or amke change in the previous records.\n",
        "## example LIST which is mutable\n",
        "list = [12,33,\"ragini\",\"apple\"]\n",
        "print(list)"
      ],
      "metadata": {
        "colab": {
          "base_uri": "https://localhost:8080/"
        },
        "id": "Oi7CHfDE4vBO",
        "outputId": "c95fbca2-ccfd-45e4-d076-e86b7601022e"
      },
      "execution_count": 20,
      "outputs": [
        {
          "output_type": "stream",
          "name": "stdout",
          "text": [
            "[12, 33, 'ragini', 'apple']\n"
          ]
        }
      ]
    },
    {
      "cell_type": "code",
      "source": [
        "## example of modified list\n",
        "list.remove(\"apple\")\n",
        "print(list)"
      ],
      "metadata": {
        "colab": {
          "base_uri": "https://localhost:8080/"
        },
        "id": "Y5cSsXaV5nGe",
        "outputId": "8736af1e-0906-496c-9bf1-4ecdbec28a9a"
      },
      "execution_count": 33,
      "outputs": [
        {
          "output_type": "stream",
          "name": "stdout",
          "text": [
            "[12, 33, 'ragini', 'pineapple']\n"
          ]
        }
      ]
    },
    {
      "cell_type": "code",
      "source": [
        "## Immutable Data structure cannot be changed after they are created. If tried to modified it will create new data.\n",
        "## example STRING which in immutable\n",
        "string = \"Data Science \"\n",
        "print(string)"
      ],
      "metadata": {
        "colab": {
          "base_uri": "https://localhost:8080/"
        },
        "id": "KFXBuiWK6jge",
        "outputId": "288317b1-1e7b-462b-c5f2-c594561ff087"
      },
      "execution_count": 32,
      "outputs": [
        {
          "output_type": "stream",
          "name": "stdout",
          "text": [
            "Data Science \n"
          ]
        }
      ]
    },
    {
      "cell_type": "code",
      "source": [
        "## example of trying to modify string\n",
        "string.remove(\"science\")\n",
        "print(string)"
      ],
      "metadata": {
        "colab": {
          "base_uri": "https://localhost:8080/",
          "height": 176
        },
        "id": "8igMGy_M9A15",
        "outputId": "278d0787-cfca-487f-d5e5-69ca86cf2898"
      },
      "execution_count": 35,
      "outputs": [
        {
          "output_type": "error",
          "ename": "AttributeError",
          "evalue": "'str' object has no attribute 'remove'",
          "traceback": [
            "\u001b[0;31m---------------------------------------------------------------------------\u001b[0m",
            "\u001b[0;31mAttributeError\u001b[0m                            Traceback (most recent call last)",
            "\u001b[0;32m<ipython-input-35-8772b32d217c>\u001b[0m in \u001b[0;36m<cell line: 2>\u001b[0;34m()\u001b[0m\n\u001b[1;32m      1\u001b[0m \u001b[0;31m## example of trying to modify string\u001b[0m\u001b[0;34m\u001b[0m\u001b[0;34m\u001b[0m\u001b[0m\n\u001b[0;32m----> 2\u001b[0;31m \u001b[0mstring\u001b[0m\u001b[0;34m.\u001b[0m\u001b[0mremove\u001b[0m\u001b[0;34m(\u001b[0m\u001b[0;34m\"science\"\u001b[0m\u001b[0;34m)\u001b[0m\u001b[0;34m\u001b[0m\u001b[0;34m\u001b[0m\u001b[0m\n\u001b[0m\u001b[1;32m      3\u001b[0m \u001b[0mprint\u001b[0m\u001b[0;34m(\u001b[0m\u001b[0mstring\u001b[0m\u001b[0;34m)\u001b[0m\u001b[0;34m\u001b[0m\u001b[0;34m\u001b[0m\u001b[0m\n",
            "\u001b[0;31mAttributeError\u001b[0m: 'str' object has no attribute 'remove'"
          ]
        }
      ]
    },
    {
      "cell_type": "code",
      "source": [
        "string = string + \"Masters\"\n",
        "print(string)"
      ],
      "metadata": {
        "colab": {
          "base_uri": "https://localhost:8080/"
        },
        "id": "NmIKSpys9r6M",
        "outputId": "ac33fcd1-1da0-4140-eea0-ec585f76a60e"
      },
      "execution_count": 36,
      "outputs": [
        {
          "output_type": "stream",
          "name": "stdout",
          "text": [
            "Data Science Masters\n"
          ]
        }
      ]
    },
    {
      "cell_type": "code",
      "source": [],
      "metadata": {
        "id": "0qIMToI--AVb"
      },
      "execution_count": null,
      "outputs": []
    }
  ]
}