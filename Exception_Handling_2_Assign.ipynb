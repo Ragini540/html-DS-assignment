{
  "nbformat": 4,
  "nbformat_minor": 0,
  "metadata": {
    "colab": {
      "provenance": []
    },
    "kernelspec": {
      "name": "python3",
      "display_name": "Python 3"
    },
    "language_info": {
      "name": "python"
    }
  },
  "cells": [
    {
      "cell_type": "markdown",
      "source": [
        "Q1. Explain why we have to use the Exception class while creating a Custom Exception.\n",
        "\n"
      ],
      "metadata": {
        "id": "ObjKx7Q0WnMn"
      }
    },
    {
      "cell_type": "markdown",
      "source": [
        "When we create a custom exception in python we subclasss the built in exception because it serves as the base class of all exception.\n",
        "The reason why we need to use Exception class when defining custom exceptions are:\n",
        "1. Inheritance of Exception Handling Behavior- it provides a basic structure and funtionality.it inherits all the funtionality for raising, catchting and printing error messages.\n",
        "2. Consistency and Standardization - Exception ensure that custom exception behaves in a consistent way, this promotes clarity, readability, and standard practices.\n",
        "3.  Built- in Exception Handling Capabilities - Exception class provides useful methods like __str__() and __repr__(), which allow for printing a user-friendly error message when the exception is raised. if needed it will provide more specific error messeges.\n",
        "4. Error Propagation and Catchting - By subclassing Exception, your custom exception can propagate through the call stack and be caught in except blocks just like any built-in exception.If you didn’t inherit from Exception, the custom exception wouldn’t be caught by the generic except block that handles all Exception-derived exceptions, which would make it harder to manage errors in your code.\n",
        "5. Extensibility - you can further extend or customize the behavior of your exception. This also allows for creating hierarchy of exceptions where you can have more specific."
      ],
      "metadata": {
        "id": "OxKN1I0Y8tHw"
      }
    },
    {
      "cell_type": "markdown",
      "source": [
        "Q2. Write a python program to print Python Exception Hierarchy."
      ],
      "metadata": {
        "id": "hZwb3BrjEaEl"
      }
    },
    {
      "cell_type": "code",
      "source": [
        "import inspect\n",
        "\n",
        "def print_exception_hierarchy(cls, indent = 0):\n",
        "  print(\"\"*indent + cls.__name__)\n",
        "\n",
        "  for subcls in cls.__subclasses__():\n",
        "    print_exception_hierarchy(subcls,indent+4)\n",
        "\n",
        "print(\"Python Exception Hierarchy:\")\n",
        "\n",
        "print_exception_hierarchy(BaseException)"
      ],
      "metadata": {
        "colab": {
          "base_uri": "https://localhost:8080/"
        },
        "id": "YjnTQOf3F0ZT",
        "outputId": "1385f42b-d818-476a-907e-3fda9940ceed"
      },
      "execution_count": null,
      "outputs": [
        {
          "output_type": "stream",
          "name": "stdout",
          "text": [
            "Python Exception Hierarchy:\n",
            "BaseException\n",
            "Exception\n",
            "TypeError\n",
            "MultipartConversionError\n",
            "FloatOperation\n",
            "DTypePromotionError\n",
            "UFuncTypeError\n",
            "UFuncTypeError\n",
            "UFuncTypeError\n",
            "UFuncTypeError\n",
            "UFuncTypeError\n",
            "UFuncTypeError\n",
            "ConversionError\n",
            "StopAsyncIteration\n",
            "StopIteration\n",
            "ImportError\n",
            "ModuleNotFoundError\n",
            "PackageNotFoundError\n",
            "PackageNotFoundError\n",
            "ZipImportError\n",
            "OSError\n",
            "ConnectionError\n",
            "BrokenPipeError\n",
            "ConnectionAbortedError\n",
            "ConnectionRefusedError\n",
            "ConnectionResetError\n",
            "RemoteDisconnected\n",
            "BlockingIOError\n",
            "ChildProcessError\n",
            "FileExistsError\n",
            "FileNotFoundError\n",
            "ExecutableNotFoundError\n",
            "IsADirectoryError\n",
            "NotADirectoryError\n",
            "InterruptedError\n",
            "InterruptedSystemCall\n",
            "PermissionError\n",
            "ProcessLookupError\n",
            "TimeoutError\n",
            "UnsupportedOperation\n",
            "itimer_error\n",
            "Error\n",
            "SameFileError\n",
            "SpecialFileError\n",
            "ExecError\n",
            "ReadError\n",
            "herror\n",
            "gaierror\n",
            "SSLError\n",
            "SSLCertVerificationError\n",
            "SSLZeroReturnError\n",
            "SSLWantWriteError\n",
            "SSLWantReadError\n",
            "SSLSyscallError\n",
            "SSLEOFError\n",
            "URLError\n",
            "HTTPError\n",
            "ContentTooShortError\n",
            "UnidentifiedImageError\n",
            "BadGzipFile\n",
            "ProxyError\n",
            "GeneralProxyError\n",
            "ProxyConnectionError\n",
            "SOCKS5AuthError\n",
            "SOCKS5Error\n",
            "SOCKS4Error\n",
            "HTTPError\n",
            "EOFError\n",
            "IncompleteReadError\n",
            "RuntimeError\n",
            "RecursionError\n",
            "NotImplementedError\n",
            "StdinNotImplementedError\n",
            "ZMQVersionError\n",
            "_DeadlockError\n",
            "BrokenBarrierError\n",
            "BrokenExecutor\n",
            "BrokenThreadPool\n",
            "SendfileNotAvailableError\n",
            "RemovedCommandError\n",
            "PackageDiscoveryError\n",
            "TooHardError\n",
            "VariableError\n",
            "NameError\n",
            "UnboundLocalError\n",
            "AttributeError\n",
            "FrozenInstanceError\n",
            "SyntaxError\n",
            "IndentationError\n",
            "TabError\n",
            "ParseError\n",
            "LookupError\n",
            "IndexError\n",
            "AxisError\n",
            "OutOfBounds\n",
            "KeyError\n",
            "UnknownBackend\n",
            "NoSuchKernel\n",
            "CodecRegistryError\n",
            "ValueError\n",
            "UnicodeError\n",
            "UnicodeEncodeError\n",
            "UnicodeDecodeError\n",
            "UnicodeTranslateError\n",
            "UnsupportedOperation\n",
            "JSONDecodeError\n",
            "UnsupportedDigestmodError\n",
            "Error\n",
            "IllegalMonthError\n",
            "IllegalWeekdayError\n",
            "MessageDefect\n",
            "NoBoundaryInMultipartDefect\n",
            "StartBoundaryNotFoundDefect\n",
            "CloseBoundaryNotFoundDefect\n",
            "FirstHeaderLineIsContinuationDefect\n",
            "MisplacedEnvelopeHeaderDefect\n",
            "MissingHeaderBodySeparatorDefect\n",
            "MultipartInvariantViolationDefect\n",
            "InvalidMultipartContentTransferEncodingDefect\n",
            "UndecodableBytesDefect\n",
            "InvalidBase64PaddingDefect\n",
            "InvalidBase64CharactersDefect\n",
            "InvalidBase64LengthDefect\n",
            "HeaderDefect\n",
            "InvalidHeaderDefect\n",
            "HeaderMissingRequiredValue\n",
            "NonPrintableDefect\n",
            "ObsoleteHeaderDefect\n",
            "NonASCIILocalPartDefect\n",
            "InvalidDateDefect\n",
            "ClassNotFound\n",
            "SSLCertVerificationError\n",
            "ClipboardEmpty\n",
            "MacroToEdit\n",
            "ParserError\n",
            "UnequalIterablesError\n",
            "UnequalIterablesError\n",
            "ELFInvalid\n",
            "InvalidVersion\n",
            "InvalidName\n",
            "InvalidWheelFilename\n",
            "InvalidSdistFilename\n",
            "InvalidSpecifier\n",
            "InvalidMarker\n",
            "UndefinedComparison\n",
            "UndefinedEnvironmentName\n",
            "InvalidRequirement\n",
            "DisabledFunctionError\n",
            "AxisError\n",
            "LinAlgError\n",
            "DefusedXmlException\n",
            "DTDForbidden\n",
            "EntitiesForbidden\n",
            "ExternalReferenceForbidden\n",
            "NotSupportedError\n",
            "NonIntersectingPathException\n",
            "AssertionError\n",
            "ArithmeticError\n",
            "FloatingPointError\n",
            "OverflowError\n",
            "ZeroDivisionError\n",
            "DivisionByZero\n",
            "DivisionUndefined\n",
            "DecimalException\n",
            "Clamped\n",
            "Rounded\n",
            "Underflow\n",
            "Overflow\n",
            "Inexact\n",
            "Underflow\n",
            "Overflow\n",
            "Subnormal\n",
            "Underflow\n",
            "DivisionByZero\n",
            "FloatOperation\n",
            "InvalidOperation\n",
            "ConversionSyntax\n",
            "DivisionImpossible\n",
            "DivisionUndefined\n",
            "InvalidContext\n",
            "SystemError\n",
            "CodecRegistryError\n",
            "ReferenceError\n",
            "MemoryError\n",
            "MemoryError\n",
            "BufferError\n",
            "Warning\n",
            "UserWarning\n",
            "GetPassWarning\n",
            "FormatterWarning\n",
            "SetuptoolsWarning\n",
            "InformationOnly\n",
            "SetuptoolsDeprecationWarning\n",
            "_AmbiguousMarker\n",
            "_DeprecatedConfig\n",
            "DistDeprecationWarning\n",
            "_MissingDynamic\n",
            "_ExperimentalConfiguration\n",
            "_ToolsTypoInMetadata\n",
            "VisibleDeprecationWarning\n",
            "RankWarning\n",
            "ConversionWarning\n",
            "RankWarning\n",
            "EncodingWarning\n",
            "DeprecationWarning\n",
            "ProvisionalWarning\n",
            "ModuleDeprecationWarning\n",
            "MatplotlibDeprecationWarning\n",
            "PendingDeprecationWarning\n",
            "SyntaxWarning\n",
            "RuntimeWarning\n",
            "ProactorSelectorThreadWarning\n",
            "UnknownTimezoneWarning\n",
            "ComplexWarning\n",
            "DecompressionBombWarning\n",
            "FutureWarning\n",
            "ProvisionalCompleterWarning\n",
            "MaskedArrayFutureWarning\n",
            "ImportWarning\n",
            "UnicodeWarning\n",
            "BytesWarning\n",
            "ResourceWarning\n",
            "DeprecatedTzFormatWarning\n",
            "_OptionError\n",
            "error\n",
            "Verbose\n",
            "Error\n",
            "_Error\n",
            "SubprocessError\n",
            "CalledProcessError\n",
            "TimeoutExpired\n",
            "Error\n",
            "TokenError\n",
            "StopTokenizing\n",
            "error\n",
            "LZMAError\n",
            "RegistryError\n",
            "_GiveupOnFastCopy\n",
            "ClassFoundException\n",
            "EndOfBlock\n",
            "TraitError\n",
            "_GiveupOnSendfile\n",
            "error\n",
            "PickleError\n",
            "PicklingError\n",
            "UnpicklingError\n",
            "_Stop\n",
            "Empty\n",
            "Full\n",
            "ArgumentError\n",
            "ArgumentTypeError\n",
            "ConfigError\n",
            "ConfigLoaderError\n",
            "ArgumentError\n",
            "ConfigFileNotFound\n",
            "ConfigurableError\n",
            "MultipleInstanceError\n",
            "ApplicationError\n",
            "ErrorDuringImport\n",
            "BdbQuit\n",
            "Restart\n",
            "ExceptionPexpect\n",
            "EOF\n",
            "TIMEOUT\n",
            "error\n",
            "PtyProcessError\n",
            "FindCmdError\n",
            "HomeDirError\n",
            "ProfileDirError\n",
            "IPythonCoreError\n",
            "TryNext\n",
            "UsageError\n",
            "StdinNotImplementedError\n",
            "InputRejected\n",
            "GetoptError\n",
            "Incomplete\n",
            "Error\n",
            "BadZipFile\n",
            "LargeZipFile\n",
            "Error\n",
            "MessageError\n",
            "MessageParseError\n",
            "HeaderParseError\n",
            "_InvalidEwError\n",
            "BoundaryError\n",
            "MultipartConversionError\n",
            "CharsetError\n",
            "HeaderWriteError\n",
            "OptionError\n",
            "ErrorToken\n",
            "PrefilterError\n",
            "AliasError\n",
            "InvalidAliasError\n",
            "Error\n",
            "InterfaceError\n",
            "DatabaseError\n",
            "InternalError\n",
            "OperationalError\n",
            "ProgrammingError\n",
            "IntegrityError\n",
            "DataError\n",
            "NotSupportedError\n",
            "Warning\n",
            "Error\n",
            "CancelledError\n",
            "TimeoutError\n",
            "InvalidStateError\n",
            "TimeoutError\n",
            "InvalidStateError\n",
            "LimitOverrunError\n",
            "QueueEmpty\n",
            "QueueFull\n",
            "SpaceInInput\n",
            "DOMException\n",
            "IndexSizeErr\n",
            "DomstringSizeErr\n",
            "HierarchyRequestErr\n",
            "WrongDocumentErr\n",
            "InvalidCharacterErr\n",
            "NoDataAllowedErr\n",
            "NoModificationAllowedErr\n",
            "NotFoundErr\n",
            "NotSupportedErr\n",
            "InuseAttributeErr\n",
            "InvalidStateErr\n",
            "SyntaxErr\n",
            "InvalidModificationErr\n",
            "NamespaceErr\n",
            "InvalidAccessErr\n",
            "ValidationErr\n",
            "ValidationError\n",
            "EditReadOnlyBuffer\n",
            "_Retry\n",
            "InvalidLayoutError\n",
            "HeightIsUnknownError\n",
            "ExpatError\n",
            "ParseEscape\n",
            "HTTPException\n",
            "NotConnected\n",
            "InvalidURL\n",
            "UnknownProtocol\n",
            "UnknownTransferEncoding\n",
            "UnimplementedFileMode\n",
            "IncompleteRead\n",
            "ImproperConnectionState\n",
            "CannotSendRequest\n",
            "CannotSendHeader\n",
            "ResponseNotReady\n",
            "BadStatusLine\n",
            "RemoteDisconnected\n",
            "LineTooLong\n",
            "InteractivelyDefined\n",
            "KillEmbedded\n",
            "ArgumentError\n",
            "ZMQBaseError\n",
            "ZMQError\n",
            "ContextTerminated\n",
            "Again\n",
            "InterruptedSystemCall\n",
            "ZMQBindError\n",
            "NotDone\n",
            "NoIPAddresses\n",
            "Error\n",
            "NoSectionError\n",
            "DuplicateSectionError\n",
            "DuplicateOptionError\n",
            "NoOptionError\n",
            "InterpolationError\n",
            "InterpolationMissingOptionError\n",
            "InterpolationSyntaxError\n",
            "InterpolationDepthError\n",
            "ParsingError\n",
            "MissingSectionHeaderError\n",
            "InvalidPortNumber\n",
            "DuplicateKernelError\n",
            "error\n",
            "ReturnValueIgnoredError\n",
            "KeyReuseError\n",
            "UnknownKeyError\n",
            "LeakedCallbackError\n",
            "BadYieldError\n",
            "ReturnValueIgnoredError\n",
            "Return\n",
            "QueueEmpty\n",
            "QueueFull\n",
            "IPythonError\n",
            "KernelError\n",
            "EngineError\n",
            "NoEnginesRegistered\n",
            "TaskAborted\n",
            "TaskTimeout\n",
            "UnmetDependency\n",
            "ImpossibleDependency\n",
            "DependencyTimeout\n",
            "InvalidDependency\n",
            "RemoteError\n",
            "CompositeError\n",
            "AlreadyDisplayedError\n",
            "TaskRejectError\n",
            "ProcessError\n",
            "BufferTooShort\n",
            "TimeoutError\n",
            "AuthenticationError\n",
            "BadEntryPoint\n",
            "NoSuchEntryPoint\n",
            "Error\n",
            "NoSuchProcess\n",
            "ZombieProcess\n",
            "AccessDenied\n",
            "TimeoutExpired\n",
            "_Ipv6UnsupportedError\n",
            "LauncherError\n",
            "ProcessStateError\n",
            "UnknownStatus\n",
            "NotRunning\n",
            "DistutilsError\n",
            "DistutilsModuleError\n",
            "DistutilsClassError\n",
            "DistutilsGetoptError\n",
            "DistutilsArgError\n",
            "DistutilsFileError\n",
            "DistutilsOptionError\n",
            "InvalidConfigError\n",
            "RemovedConfigError\n",
            "DistutilsSetupError\n",
            "DistutilsPlatformError\n",
            "DistutilsExecError\n",
            "DistutilsInternalError\n",
            "DistutilsTemplateError\n",
            "DistutilsByteCompileError\n",
            "RemovedCommandError\n",
            "PackageDiscoveryError\n",
            "CCompilerError\n",
            "PreprocessError\n",
            "CompileError\n",
            "LibError\n",
            "LinkError\n",
            "UnknownFileError\n",
            "TarError\n",
            "ExtractError\n",
            "ReadError\n",
            "CompressionError\n",
            "StreamError\n",
            "HeaderError\n",
            "EmptyHeaderError\n",
            "TruncatedHeaderError\n",
            "EOFHeaderError\n",
            "InvalidHeaderError\n",
            "SubsequentHeaderError\n",
            "FilterError\n",
            "AbsolutePathError\n",
            "OutsideDestinationError\n",
            "SpecialFileError\n",
            "AbsoluteLinkError\n",
            "LinkOutsideDestinationError\n",
            "ParserSyntaxError\n",
            "Error\n",
            "AuthorizationError\n",
            "RuntimeManagementError\n",
            "MessageError\n",
            "WidgetException\n",
            "JsException\n",
            "ConverterError\n",
            "ConverterLockError\n",
            "MAError\n",
            "MaskError\n",
            "FormattedTracebackError\n",
            "ParseBaseException\n",
            "ParseException\n",
            "ParseFatalException\n",
            "ParseSyntaxException\n",
            "RecursiveGrammarException\n",
            "_ParseActionIndexError\n",
            "HttpLib2Error\n",
            "HttpLib2ErrorWithResponse\n",
            "RedirectMissingLocation\n",
            "RedirectLimit\n",
            "FailedToDecompressContent\n",
            "UnimplementedDigestAuthOptionError\n",
            "UnimplementedHmacDigestAuthOptionError\n",
            "MalformedHeader\n",
            "RelativeURIError\n",
            "ServerNotFoundError\n",
            "ProxiesUnavailableError\n",
            "DecompressionBombError\n",
            "BadRequiredStrength\n",
            "DuplicateConstraint\n",
            "DuplicateEditVariable\n",
            "UnknownConstraint\n",
            "UnknownEditVariable\n",
            "UnsatisfiableConstraint\n",
            "NonGuiException\n",
            "InvalidIndexError\n",
            "TerminateTrajectory\n",
            "NoFreePortFoundError\n",
            "DebuggerInitializationError\n",
            "Error\n",
            "ProtocolError\n",
            "ResponseError\n",
            "Fault\n",
            "_Error\n",
            "UnableToResolveVariableException\n",
            "InvalidTypeInArgsException\n",
            "GeneratorExit\n",
            "SystemExit\n",
            "KeyboardInterrupt\n",
            "CancelledError\n",
            "AbortThread\n"
          ]
        }
      ]
    },
    {
      "cell_type": "markdown",
      "source": [
        "Q3. What errors are defined in the ArithmeticError class? Explain any two with an example."
      ],
      "metadata": {
        "id": "Kt33HqMvWpzF"
      }
    },
    {
      "cell_type": "markdown",
      "source": [
        "The ArithmeticError in python is the base class for all errors related to arithmetic operations.It is a subclass of the built-in Exception class. There ar several types of specific errors derived from ArithmeticError, each representing different kinds of arithmetic related issues.\n",
        "Below are exceptions that inherit from Arithmetic Error:\n",
        ""
      ],
      "metadata": {
        "id": "WmxxJeok8r04"
      }
    },
    {
      "cell_type": "code",
      "source": [
        "#ZeroDivisionError\n",
        "\n",
        "try:\n",
        "  result = 10/0\n",
        "except ZeroDivisionError as e:\n",
        "  print(e)"
      ],
      "metadata": {
        "id": "csxY2LpLHLgy",
        "colab": {
          "base_uri": "https://localhost:8080/"
        },
        "outputId": "89b380b6-a025-4ebd-a678-9668897e46ab"
      },
      "execution_count": 1,
      "outputs": [
        {
          "output_type": "stream",
          "name": "stdout",
          "text": [
            "division by zero\n"
          ]
        }
      ]
    },
    {
      "cell_type": "code",
      "source": [
        "#OverflowError\n",
        "\n",
        "import math\n",
        "\n",
        "result = math.exp(1000)\n",
        "print(result)"
      ],
      "metadata": {
        "colab": {
          "base_uri": "https://localhost:8080/",
          "height": 193
        },
        "id": "pZVrZpkN_eSb",
        "outputId": "3d50ff56-d654-47b5-c540-bd83a81cb2fe"
      },
      "execution_count": 9,
      "outputs": [
        {
          "output_type": "error",
          "ename": "OverflowError",
          "evalue": "math range error",
          "traceback": [
            "\u001b[0;31m---------------------------------------------------------------------------\u001b[0m",
            "\u001b[0;31mOverflowError\u001b[0m                             Traceback (most recent call last)",
            "\u001b[0;32m<ipython-input-9-11af3d6cbe0d>\u001b[0m in \u001b[0;36m<cell line: 5>\u001b[0;34m()\u001b[0m\n\u001b[1;32m      3\u001b[0m \u001b[0;32mimport\u001b[0m \u001b[0mmath\u001b[0m\u001b[0;34m\u001b[0m\u001b[0;34m\u001b[0m\u001b[0m\n\u001b[1;32m      4\u001b[0m \u001b[0;34m\u001b[0m\u001b[0m\n\u001b[0;32m----> 5\u001b[0;31m \u001b[0mresult\u001b[0m \u001b[0;34m=\u001b[0m \u001b[0mmath\u001b[0m\u001b[0;34m.\u001b[0m\u001b[0mexp\u001b[0m\u001b[0;34m(\u001b[0m\u001b[0;36m1000\u001b[0m\u001b[0;34m)\u001b[0m\u001b[0;34m\u001b[0m\u001b[0;34m\u001b[0m\u001b[0m\n\u001b[0m\u001b[1;32m      6\u001b[0m \u001b[0mprint\u001b[0m\u001b[0;34m(\u001b[0m\u001b[0mresult\u001b[0m\u001b[0;34m)\u001b[0m\u001b[0;34m\u001b[0m\u001b[0;34m\u001b[0m\u001b[0m\n",
            "\u001b[0;31mOverflowError\u001b[0m: math range error"
          ]
        }
      ]
    },
    {
      "cell_type": "markdown",
      "source": [
        "Q4. Why LookupError class is used? Explain with an example KeyError and IndexError."
      ],
      "metadata": {
        "id": "-OcVCs5jBDNe"
      }
    },
    {
      "cell_type": "markdown",
      "source": [
        "The LookupError class in Python is a base exception for errors that occur when a lookup operation fails, such as trying to access a non-existent key in a dictionary or an invalid index in a list. It serves as a parent class for more specific exceptions like KeyError and IndexError, enabling more precise error handling in cases involving collections like mappings and sequences."
      ],
      "metadata": {
        "id": "kY208Ih0Bi74"
      }
    },
    {
      "cell_type": "code",
      "source": [
        "#KeyError\n",
        "\n",
        "my_dict = {'apple': 1, 'banana': 2}\n",
        "my_dict['orange'] += 1"
      ],
      "metadata": {
        "colab": {
          "base_uri": "https://localhost:8080/",
          "height": 176
        },
        "id": "GkUjnWcMB10n",
        "outputId": "fcd58faf-06fe-46fe-ed23-27c5f2894b50"
      },
      "execution_count": 6,
      "outputs": [
        {
          "output_type": "error",
          "ename": "KeyError",
          "evalue": "'orange'",
          "traceback": [
            "\u001b[0;31m---------------------------------------------------------------------------\u001b[0m",
            "\u001b[0;31mKeyError\u001b[0m                                  Traceback (most recent call last)",
            "\u001b[0;32m<ipython-input-6-e26020989c35>\u001b[0m in \u001b[0;36m<cell line: 4>\u001b[0;34m()\u001b[0m\n\u001b[1;32m      2\u001b[0m \u001b[0;34m\u001b[0m\u001b[0m\n\u001b[1;32m      3\u001b[0m \u001b[0mmy_dict\u001b[0m \u001b[0;34m=\u001b[0m \u001b[0;34m{\u001b[0m\u001b[0;34m'apple'\u001b[0m\u001b[0;34m:\u001b[0m \u001b[0;36m1\u001b[0m\u001b[0;34m,\u001b[0m \u001b[0;34m'banana'\u001b[0m\u001b[0;34m:\u001b[0m \u001b[0;36m2\u001b[0m\u001b[0;34m}\u001b[0m\u001b[0;34m\u001b[0m\u001b[0;34m\u001b[0m\u001b[0m\n\u001b[0;32m----> 4\u001b[0;31m \u001b[0mmy_dict\u001b[0m\u001b[0;34m[\u001b[0m\u001b[0;34m'orange'\u001b[0m\u001b[0;34m]\u001b[0m \u001b[0;34m+=\u001b[0m \u001b[0;36m1\u001b[0m\u001b[0;34m\u001b[0m\u001b[0;34m\u001b[0m\u001b[0m\n\u001b[0m",
            "\u001b[0;31mKeyError\u001b[0m: 'orange'"
          ]
        }
      ]
    },
    {
      "cell_type": "code",
      "source": [
        "#IndexError\n",
        "\n",
        "my_list = [10, 20, 30]\n",
        "print(my_list[5])"
      ],
      "metadata": {
        "colab": {
          "base_uri": "https://localhost:8080/",
          "height": 176
        },
        "id": "VRFObOu4FTsh",
        "outputId": "b1900080-dfed-4850-ae9c-3bb6d2620bf4"
      },
      "execution_count": 7,
      "outputs": [
        {
          "output_type": "error",
          "ename": "IndexError",
          "evalue": "list index out of range",
          "traceback": [
            "\u001b[0;31m---------------------------------------------------------------------------\u001b[0m",
            "\u001b[0;31mIndexError\u001b[0m                                Traceback (most recent call last)",
            "\u001b[0;32m<ipython-input-7-5655ce002c5c>\u001b[0m in \u001b[0;36m<cell line: 4>\u001b[0;34m()\u001b[0m\n\u001b[1;32m      2\u001b[0m \u001b[0;34m\u001b[0m\u001b[0m\n\u001b[1;32m      3\u001b[0m \u001b[0mmy_list\u001b[0m \u001b[0;34m=\u001b[0m \u001b[0;34m[\u001b[0m\u001b[0;36m10\u001b[0m\u001b[0;34m,\u001b[0m \u001b[0;36m20\u001b[0m\u001b[0;34m,\u001b[0m \u001b[0;36m30\u001b[0m\u001b[0;34m]\u001b[0m\u001b[0;34m\u001b[0m\u001b[0;34m\u001b[0m\u001b[0m\n\u001b[0;32m----> 4\u001b[0;31m \u001b[0mprint\u001b[0m\u001b[0;34m(\u001b[0m\u001b[0mmy_list\u001b[0m\u001b[0;34m[\u001b[0m\u001b[0;36m5\u001b[0m\u001b[0;34m]\u001b[0m\u001b[0;34m)\u001b[0m\u001b[0;34m\u001b[0m\u001b[0;34m\u001b[0m\u001b[0m\n\u001b[0m",
            "\u001b[0;31mIndexError\u001b[0m: list index out of range"
          ]
        }
      ]
    },
    {
      "cell_type": "markdown",
      "source": [
        "Q5. Explain ImportError. What is ModuleNotFoundError?"
      ],
      "metadata": {
        "id": "SF5iU1KgG3ji"
      }
    },
    {
      "cell_type": "markdown",
      "source": [
        "n Python, an ImportError is raised when there is an issue loading a module or component like a class or function into memory during an import. This typically occurs if the module cannot be found or if there is a problem with the import process.\n",
        "\n",
        "ModuleNotFoundError  is a subclass of ImportError introduced in Python 3.6. It specifically indicates that Python cannot find the module you're trying to import. Prior to Python 3.6, this situation would raise a generic ImportError. ModuleNotFoundError helps provide clearer error messages when a module is missing, while ImportError is used for other import-related issues."
      ],
      "metadata": {
        "id": "MFhrd0mqHLNl"
      }
    },
    {
      "cell_type": "markdown",
      "source": [
        "Q6. List down some best practices for exception handling in python."
      ],
      "metadata": {
        "id": "t6q79D7MIXr4"
      }
    },
    {
      "cell_type": "code",
      "source": [
        "#use always a specific exception\n",
        "try:\n",
        "    10/0\n",
        "except Exception as e: #this is a super exception dont use unless necessary\n",
        "    print(e)\n",
        ""
      ],
      "metadata": {
        "colab": {
          "base_uri": "https://localhost:8080/"
        },
        "id": "XzzuJjluGDis",
        "outputId": "824cdff4-5660-4782-cfda-8ed4b9f02aee"
      },
      "execution_count": 10,
      "outputs": [
        {
          "output_type": "stream",
          "name": "stdout",
          "text": [
            "division by zero\n"
          ]
        }
      ]
    },
    {
      "cell_type": "code",
      "source": [
        "try:\n",
        "    10/0\n",
        "except ZeroDivisionError as e: #this is a specific mention of the error and this is how its used\n",
        "    print(e)"
      ],
      "metadata": {
        "colab": {
          "base_uri": "https://localhost:8080/"
        },
        "id": "aWeTBB4uJKRT",
        "outputId": "fbf7ac16-0159-4f10-e62b-b5d126a52b71"
      },
      "execution_count": 11,
      "outputs": [
        {
          "output_type": "stream",
          "name": "stdout",
          "text": [
            "division by zero\n"
          ]
        }
      ]
    },
    {
      "cell_type": "code",
      "source": [
        "import logging\n",
        "\n",
        "logging.basicConfig(level = logging.ERROR)\n",
        "\n",
        "try:\n",
        "  10/0\n",
        "\n",
        "except ZeroDivisionError as e:\n",
        "  logging.error(\"i am trying to handle a zerodivision error {}\".format(e))"
      ],
      "metadata": {
        "colab": {
          "base_uri": "https://localhost:8080/"
        },
        "id": "6LDS82EtJO0M",
        "outputId": "38ea3afe-550a-4687-8c95-de2544afec5a"
      },
      "execution_count": 12,
      "outputs": [
        {
          "output_type": "stream",
          "name": "stderr",
          "text": [
            "ERROR:root:i am trying to handle a zerodivision error division by zero\n"
          ]
        }
      ]
    },
    {
      "cell_type": "code",
      "source": [
        "#cleanup all the resources\n",
        "\n",
        "try:\n",
        "    with open(\"text.txt\", \"w\") as f:\n",
        "        f.write(\"this is my msg to file\")\n",
        "except FileNotFoundError as e:\n",
        "    logging.error(\"this is my file not found {}\".format(e))\n",
        "finally:\n",
        "    f.close()"
      ],
      "metadata": {
        "id": "qPBab9mUKJZb"
      },
      "execution_count": 13,
      "outputs": []
    },
    {
      "cell_type": "code",
      "source": [],
      "metadata": {
        "id": "batwldk-Kuim"
      },
      "execution_count": null,
      "outputs": []
    }
  ]
}