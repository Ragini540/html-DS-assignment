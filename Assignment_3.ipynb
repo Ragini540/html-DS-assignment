{
  "nbformat": 4,
  "nbformat_minor": 0,
  "metadata": {
    "colab": {
      "provenance": []
    },
    "kernelspec": {
      "name": "python3",
      "display_name": "Python 3"
    },
    "language_info": {
      "name": "python"
    }
  },
  "cells": [
    {
      "cell_type": "code",
      "execution_count": null,
      "metadata": {
        "id": "5OGe4D38UQOP"
      },
      "outputs": [],
      "source": [
        "##1 Which keyword is used to create a function? Create a function to return a list of odd numbers in the range of 1 to 25.\n",
        "# Keyword for function is \"def\" as in definition.\n",
        "# ex for list of odd numbers\n"
      ]
    },
    {
      "cell_type": "code",
      "source": [
        "def odd_numbers(n):\n",
        "  odd_numbers = []\n",
        "  for i in range (1, 26):\n",
        "    if i % 2 != 0:\n",
        "      odd_numbers.append(i)\n",
        "  return odd_numbers"
      ],
      "metadata": {
        "id": "r9pf0pJAUXsO"
      },
      "execution_count": null,
      "outputs": []
    },
    {
      "cell_type": "code",
      "source": [
        "odd_numbers(25)"
      ],
      "metadata": {
        "colab": {
          "base_uri": "https://localhost:8080/"
        },
        "id": "SctKnGqmVeAg",
        "outputId": "66c9225d-3592-496c-f973-3bc66c4ef0ea"
      },
      "execution_count": null,
      "outputs": [
        {
          "output_type": "execute_result",
          "data": {
            "text/plain": [
              "[1, 3, 5, 7, 9, 11, 13, 15, 17, 19, 21, 23, 25]"
            ]
          },
          "metadata": {},
          "execution_count": 10
        }
      ]
    },
    {
      "cell_type": "code",
      "source": [
        "##2 Why *args and **kwargs is used in some functions? Create a function each for *args and **kwargs to  demonstrate their use.\n",
        "# *args allows a function in which positional argument is acceptable, we can pass multiple values, strings, list etc. It collect the arguments into tuples.\n",
        "# **kwargs allows a function in keyword argumnet. It use argumnets as dictionary.\n",
        "def list1(*args):\n",
        "  l = []\n",
        "  for i in args:\n",
        "    if type(i)== list:\n",
        "      l.append(i)\n",
        "  return l\n"
      ],
      "metadata": {
        "id": "mS8UzOU_V6Xu"
      },
      "execution_count": null,
      "outputs": []
    },
    {
      "cell_type": "code",
      "source": [
        "list1(1,2,3,[1,2,3,4,5,4],(1,2,3,4,5), \"ragini\", [4,5,6], [6,7,8])"
      ],
      "metadata": {
        "colab": {
          "base_uri": "https://localhost:8080/"
        },
        "id": "z7H4svwfZSg5",
        "outputId": "faeee786-dd75-4571-da9b-d805328dbddc"
      },
      "execution_count": null,
      "outputs": [
        {
          "output_type": "execute_result",
          "data": {
            "text/plain": [
              "[[1, 2, 3, 4, 5, 4], [4, 5, 6], [6, 7, 8]]"
            ]
          },
          "metadata": {},
          "execution_count": 21
        }
      ]
    },
    {
      "cell_type": "code",
      "source": [
        "def list2(**kwargs):\n",
        "  return kwargs"
      ],
      "metadata": {
        "id": "0UHmBsl8Zd8f"
      },
      "execution_count": null,
      "outputs": []
    },
    {
      "cell_type": "code",
      "source": [
        "list2(a= 32, b = 20, c = [1,2,3,4], d = (\"ragini\", \"pwskills\"))"
      ],
      "metadata": {
        "colab": {
          "base_uri": "https://localhost:8080/"
        },
        "id": "p88PWMB3br1Z",
        "outputId": "d10c0754-7011-4fc9-9fdf-dcdcb4cebdba"
      },
      "execution_count": null,
      "outputs": [
        {
          "output_type": "execute_result",
          "data": {
            "text/plain": [
              "{'a': 32, 'b': 20, 'c': [1, 2, 3, 4], 'd': ('ragini', 'pwskills')}"
            ]
          },
          "metadata": {},
          "execution_count": 24
        }
      ]
    },
    {
      "cell_type": "code",
      "source": [
        "##3 What is an iterator in python? Name the method used to initialise the iterator object and the method  used for iteration. Use these methods to print the first five elements of the given list [2, 4, 6, 8, 10, 12, 14, 16, 18, 20].\n",
        "# An interator in python is a method that iterate collections like lists, tuple,etc. iterator implement two methods\n",
        "# _iter_(): this method is to intilize the interator object.\n",
        "#_next_(): this method allow access to next object, it raise stopiteration exception when there is no more element to iterate.\n",
        "my_list =  [2, 4, 6, 8, 10, 12, 14, 16, 18, 20]\n",
        "my_iterator = iter(my_list)\n",
        "for i in range(5):\n",
        "  print(next(my_iterator))\n"
      ],
      "metadata": {
        "colab": {
          "base_uri": "https://localhost:8080/"
        },
        "id": "BaVHt9dxcPQi",
        "outputId": "8744fbab-f867-43c9-c2f5-d320f4a0b5a5"
      },
      "execution_count": null,
      "outputs": [
        {
          "output_type": "stream",
          "name": "stdout",
          "text": [
            "2\n",
            "4\n",
            "6\n",
            "8\n",
            "10\n"
          ]
        }
      ]
    },
    {
      "cell_type": "code",
      "source": [
        "##4 What is a generator function in python? Why yield keyword is used? Give an example of a generator function.\n",
        "# generator function is a special type of function that returns an iterator called generator which produces values lazily with return.\n",
        "# generator funtion use the yield keyword. Yield keyword allows the generator to produce value one by one ans values are saved so it can pause and resume from the same point.\n",
        "def fib(n):\n",
        "  a,b = 0,1\n",
        "  for i in range(n):\n",
        "    yield a\n",
        "    a,b = b, a+b\n"
      ],
      "metadata": {
        "id": "09QV9rkZejvO"
      },
      "execution_count": null,
      "outputs": []
    },
    {
      "cell_type": "code",
      "source": [
        "fib(10)"
      ],
      "metadata": {
        "colab": {
          "base_uri": "https://localhost:8080/"
        },
        "id": "iVG8m6rHhqXx",
        "outputId": "1884874e-2ac1-4fe0-d612-d2ffff35bab7"
      },
      "execution_count": null,
      "outputs": [
        {
          "output_type": "execute_result",
          "data": {
            "text/plain": [
              "<generator object fib at 0x79bcd8863840>"
            ]
          },
          "metadata": {},
          "execution_count": 28
        }
      ]
    },
    {
      "cell_type": "code",
      "source": [
        "for i in fib(13):\n",
        "  print(i)"
      ],
      "metadata": {
        "colab": {
          "base_uri": "https://localhost:8080/"
        },
        "id": "mmkVliouhur2",
        "outputId": "93e538c7-8823-42cf-ab88-b0966d12caf4"
      },
      "execution_count": null,
      "outputs": [
        {
          "output_type": "stream",
          "name": "stdout",
          "text": [
            "0\n",
            "1\n",
            "1\n",
            "2\n",
            "3\n",
            "5\n",
            "8\n",
            "13\n",
            "21\n",
            "34\n",
            "55\n",
            "89\n",
            "144\n"
          ]
        }
      ]
    },
    {
      "cell_type": "code",
      "source": [
        "#Create a generator function for prime numbers less than 1000. Use the next() method to print the  first 20 prime numbers.\n",
        "def prime_numbers():\n",
        "    num = 2\n",
        "    while num < 1000:\n",
        "        is_prime = True\n",
        "        for i in range(2, int(num ** 0.5) + 1):\n",
        "            if num % i == 0:\n",
        "                is_prime = False\n",
        "                break\n",
        "\n",
        "        if is_prime:\n",
        "            yield num\n",
        "        num += 1\n",
        "\n",
        "prime_gen = prime_numbers()\n",
        "\n",
        "for i in range(20):\n",
        "    print(next(prime_gen))"
      ],
      "metadata": {
        "colab": {
          "base_uri": "https://localhost:8080/"
        },
        "id": "VxS4RnlYZzPj",
        "outputId": "89e7e897-4d03-454d-95f0-a079d2b400e1"
      },
      "execution_count": 51,
      "outputs": [
        {
          "output_type": "stream",
          "name": "stdout",
          "text": [
            "2\n",
            "3\n",
            "5\n",
            "7\n",
            "11\n",
            "13\n",
            "17\n",
            "19\n",
            "23\n",
            "29\n",
            "31\n",
            "37\n",
            "41\n",
            "43\n",
            "47\n",
            "53\n",
            "59\n",
            "61\n",
            "67\n",
            "71\n"
          ]
        }
      ]
    },
    {
      "cell_type": "code",
      "source": [],
      "metadata": {
        "id": "wr0Pf2xmanTa"
      },
      "execution_count": null,
      "outputs": []
    }
  ]
}