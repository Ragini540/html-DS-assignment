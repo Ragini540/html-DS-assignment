{
  "nbformat": 4,
  "nbformat_minor": 0,
  "metadata": {
    "colab": {
      "provenance": []
    },
    "kernelspec": {
      "name": "python3",
      "display_name": "Python 3"
    },
    "language_info": {
      "name": "python"
    }
  },
  "cells": [
    {
      "cell_type": "markdown",
      "source": [
        "1.Explain Class and Object with respect to Object-Oriented Programming. Give a suitable example."
      ],
      "metadata": {
        "id": "8k-RFNS8gcwD"
      }
    },
    {
      "cell_type": "code",
      "execution_count": 1,
      "metadata": {
        "id": "1O8XnyjwgLyW"
      },
      "outputs": [],
      "source": [
        "#Class\n",
        "#A class is a blueprint for creating objects.it defines a set of attributes and methods.\n",
        "class pwskills:\n",
        "  def __init__(self,name,email):\n",
        "    self.name=name\n",
        "    self.email=email\n",
        "  def return_student_details(self):\n",
        "    return self.name, self.email"
      ]
    },
    {
      "cell_type": "code",
      "source": [
        "#Object\n",
        "#An objact is a instance of a class with actual values. when a class is defined no memory is allocated until an object of that class is created.\n",
        "pw = pwskills(\"ragini\", \"ragini@gmail.com\")"
      ],
      "metadata": {
        "id": "3yDMjsRSgfCy"
      },
      "execution_count": 3,
      "outputs": []
    },
    {
      "cell_type": "code",
      "source": [
        "pw.return_student_details()"
      ],
      "metadata": {
        "colab": {
          "base_uri": "https://localhost:8080/"
        },
        "id": "3U8N94gaqCnA",
        "outputId": "9d2f0f53-1990-4dc7-9d27-684c313346ae"
      },
      "execution_count": 5,
      "outputs": [
        {
          "output_type": "execute_result",
          "data": {
            "text/plain": [
              "('ragini', 'ragini@gmail.com')"
            ]
          },
          "metadata": {},
          "execution_count": 5
        }
      ]
    },
    {
      "cell_type": "markdown",
      "source": [
        "2.Name the four pillars of OOPs."
      ],
      "metadata": {
        "id": "Kf1okOIisSTl"
      }
    },
    {
      "cell_type": "code",
      "source": [
        "#The four pillars of OOPs are:\n",
        "#1 Encapsulation\n",
        "#2 Abstraction\n",
        "#3 Inheritance\n",
        "#4 Polymorphism"
      ],
      "metadata": {
        "id": "ffo8wGEWsC5X"
      },
      "execution_count": 6,
      "outputs": []
    },
    {
      "cell_type": "markdown",
      "source": [
        "3.Explain why the __init__() function is used. Give a suitable example."
      ],
      "metadata": {
        "id": "ULr1wiwcsyRP"
      }
    },
    {
      "cell_type": "code",
      "source": [
        "#The __init__() methid is used to ensure each object starts with a specific setup or initial values making objects easy to create.\n",
        "class Car:\n",
        "  def __init__(self, name, model, year):\n",
        "    self.name = name\n",
        "    self.model = model\n",
        "    self.year = year\n",
        "  def return_car_details(self):\n",
        "    return self.name, self.model, self.year\n",
        "\n",
        "car1 = Car(\"Toyots\", \"Camry\", 2022)\n"
      ],
      "metadata": {
        "id": "2sav_CBj4gY8"
      },
      "execution_count": 6,
      "outputs": []
    },
    {
      "cell_type": "code",
      "source": [
        "car1.return_car_details()"
      ],
      "metadata": {
        "colab": {
          "base_uri": "https://localhost:8080/"
        },
        "id": "FF9XwKW45ZPi",
        "outputId": "36032c48-3eb3-4e9c-bd6a-1c742bd228c1"
      },
      "execution_count": 7,
      "outputs": [
        {
          "output_type": "execute_result",
          "data": {
            "text/plain": [
              "('Toyots', 'Camry', 2022)"
            ]
          },
          "metadata": {},
          "execution_count": 7
        }
      ]
    },
    {
      "cell_type": "markdown",
      "source": [
        "4.Why self is used in OOPs?"
      ],
      "metadata": {
        "id": "rrWfXeD46TeD"
      }
    },
    {
      "cell_type": "code",
      "source": [
        "#Self differentiates instance variables belonging to an object from local variable only within the method.\n",
        "#we can access and modify attributes of the object.we can easily call any other methods within the object.\n",
        "#it can help with making multiple objects of a class with its own set of attributes."
      ],
      "metadata": {
        "id": "Ut3i55sH5wdL"
      },
      "execution_count": 8,
      "outputs": []
    },
    {
      "cell_type": "markdown",
      "source": [
        "5.What is inheritance? Give an example for each type of inheritance."
      ],
      "metadata": {
        "id": "lATM94zV7zgv"
      }
    },
    {
      "cell_type": "code",
      "source": [
        "#Inheritance is a fundamental concept that allows one class (child class) to inherit the attributes and method of another class(parent class). this enables reusability which allows to build upon existing code.\n",
        "#single inheritance.\n",
        "class animal:\n",
        "  def speak(self):\n",
        "    print(\"animal speaking\")\n",
        "\n",
        "class dog(animal):\n",
        "  def bark(self):\n",
        "    print(\"dog barking\")\n",
        "\n",
        "dog1 = dog()\n",
        "dog1.bark()\n",
        "dog1.speak()"
      ],
      "metadata": {
        "colab": {
          "base_uri": "https://localhost:8080/"
        },
        "id": "Qt-IrFYb70_m",
        "outputId": "bba5f829-0a48-4fda-8d8c-4631b81ef220"
      },
      "execution_count": 12,
      "outputs": [
        {
          "output_type": "stream",
          "name": "stdout",
          "text": [
            "dog barking\n",
            "animal speaking\n"
          ]
        }
      ]
    },
    {
      "cell_type": "code",
      "source": [
        "#Multiple Inheritance\n",
        "class A:\n",
        "  def method_a(self):\n",
        "    print(\"method A\")\n",
        "\n",
        "class B:\n",
        "  def method_b(self):\n",
        "    print(\"method B\")\n",
        "\n",
        "class C(A,B):\n",
        "  def method_c(self):\n",
        "    print(\"method C\")\n",
        "\n",
        "c = C()\n",
        "c.method_a()\n",
        "c.method_b()\n",
        "c.method_c()\n"
      ],
      "metadata": {
        "colab": {
          "base_uri": "https://localhost:8080/"
        },
        "id": "ScVOQq4Y9NQ7",
        "outputId": "18c56384-f0cd-442c-dc2c-f93e9eb4e073"
      },
      "execution_count": 13,
      "outputs": [
        {
          "output_type": "stream",
          "name": "stdout",
          "text": [
            "method A\n",
            "method B\n",
            "method C\n"
          ]
        }
      ]
    },
    {
      "cell_type": "code",
      "source": [],
      "metadata": {
        "id": "OAbrNUuK_x6H"
      },
      "execution_count": null,
      "outputs": []
    }
  ]
}